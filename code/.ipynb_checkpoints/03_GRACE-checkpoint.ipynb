{
 "cells": [
  {
   "cell_type": "code",
   "execution_count": 1,
   "metadata": {},
   "outputs": [],
   "source": [
    "import os\n",
    "import ee\n",
    "import datetime\n",
    "import time\n",
    "import sklearn\n",
    "import io\n",
    "import requests\n",
    "import urllib.request\n",
    "\n",
    "import geopandas as gp\n",
    "import numpy as np\n",
    "import pandas as pd\n",
    "import rsfuncs as rs\n",
    "import matplotlib.pyplot as plt\n",
    "import matplotlib.gridspec as gridspec\n",
    "\n",
    "from scipy.signal import savgol_filter\n",
    "from dateutil.relativedelta import relativedelta\n",
    "from sklearn import preprocessing\n",
    "from shapely.ops import unary_union\n",
    "from pandas.tseries.offsets import MonthEnd\n",
    "\n",
    "ee.Initialize()\n",
    "\n",
    "%load_ext autoreload\n",
    "%autoreload 2"
   ]
  },
  {
   "cell_type": "code",
   "execution_count": 2,
   "metadata": {},
   "outputs": [],
   "source": [
    "# Select area\n",
    "\n",
    "shp = gp.read_file(\"../shape/argus_grace.shp\")\n",
    "sa_km3 = round(shp.area[0] * 10000, 2)\n",
    "area = rs.gdf_to_ee_poly(shp)\n"
   ]
  },
  {
   "cell_type": "code",
   "execution_count": 3,
   "metadata": {},
   "outputs": [],
   "source": [
    "# Set GRACE study period \n",
    "\n",
    "years = range(2003, 2018)\n",
    "start = datetime.datetime(years[0], 1, 1)\n",
    "end = datetime.datetime(years[-1]+1, 1, 1)\n",
    "dt_idx = pd.date_range(start, end, freq = \"MS\")\n"
   ]
  },
  {
   "cell_type": "code",
   "execution_count": null,
   "metadata": {},
   "outputs": [],
   "source": [
    "# Load data\n",
    "data = rs.load_data()"
   ]
  },
  {
   "cell_type": "code",
   "execution_count": null,
   "metadata": {},
   "outputs": [
    {
     "name": "stdout",
     "output_type": "stream",
     "text": [
      "processing:\n",
      "ee.ImageCollection({\n",
      "  \"type\": \"Invocation\",\n",
      "  \"arguments\": {\n",
      "    \"id\": \"NASA/GRACE/MASS_GRIDS/MASCON_CRI\"\n",
      "  },\n",
      "  \"functionName\": \"ImageCollection.load\"\n",
      "})\n",
      "progress:\n",
      "0.0 % \n",
      "2.762 % \n",
      "5.524 % \n",
      "8.287 % \n",
      "11.04 % \n",
      "13.81 % \n",
      "16.57 % \n",
      "19.33 % \n",
      "22.09 % \n",
      "24.86 % \n",
      "27.62 % \n",
      "30.38 % \n",
      "33.14 % \n",
      "35.91 % \n",
      "38.67 % \n",
      "41.43 % \n",
      "44.19 % \n",
      "46.96 % \n",
      "49.72 % \n",
      "52.48 % \n",
      "55.24 % \n",
      "58.01 % \n",
      "60.77 % \n",
      "63.53 % \n",
      "66.29 % \n",
      "69.06 % \n",
      "71.82 % \n",
      "74.58 % \n",
      "77.34 % \n",
      "80.11 % \n",
      "82.87 % \n",
      "85.63 % \n",
      "88.39 % \n",
      "91.16 % \n",
      "93.92 % \n",
      "96.68 % \n",
      "99.44 % \n",
      "processing:\n",
      "ee.ImageCollection({\n",
      "  \"type\": \"Invocation\",\n",
      "  \"arguments\": {\n",
      "    \"id\": \"NASA/GRACE/MASS_GRIDS/MASCON\"\n",
      "  },\n",
      "  \"functionName\": \"ImageCollection.load\"\n",
      "})\n",
      "progress:\n",
      "0.0 % \n",
      "2.762 % \n",
      "5.524 % \n",
      "8.287 % \n",
      "11.04 % \n",
      "13.81 % \n",
      "16.57 % \n",
      "19.33 % \n",
      "22.09 % \n"
     ]
    }
   ],
   "source": [
    "# Get grace products\n",
    "cri = rs.get_grace(data['cri'], start, end, area)\n",
    "mas = rs.get_grace(data['mas'], start, end, area)\n",
    "gfz = rs.get_grace(data['gfz'], start, end, area)\n",
    "csr = rs.get_grace(data['csr'], start, end, area)\n",
    "jpl = rs.get_grace(data['jpl'], start, end, area)"
   ]
  },
  {
   "cell_type": "code",
   "execution_count": null,
   "metadata": {},
   "outputs": [],
   "source": [
    "# Now soil moisture, SWE, and reservoir storage. \n",
    "# Add an extra year beforehand, since we are differencing from the starting point, (e.g. dS/dt) "
   ]
  },
  {
   "cell_type": "code",
   "execution_count": null,
   "metadata": {
    "scrolled": true
   },
   "outputs": [],
   "source": [
    "# Soil moisture\n",
    "\n",
    "# tc_sm = rs.calc_monthly_sum(data['tc_sm'], range(2002, 2018), range(1,13), area)\n",
    "# gldas_sm = rs.calc_monthly_sum(data['gldas_sm'], range(2002, 2018), range(1,13), area)\n",
    "\n",
    "tc_sm = rs.calc_monthly_mean(data['tc_sm'], datetime.datetime(years[0]-1, 1, 1), datetime.datetime(years[-1]+1, 1, 1), area)\n",
    "gldas_sm = rs.calc_monthly_mean(data['gldas_sm'], datetime.datetime(years[0]-1, 1, 1), datetime.datetime(years[-1]+1, 1, 1), area)\n",
    "\n",
    "# gldsm1 = rs.calc_monthly_sum(data['gsm1'], years, months, area)\n",
    "# gldsm2 = rs.calc_monthly_sum(data['gsm2'], years, months, area)\n",
    "# gldsm3 = rs.calc_monthly_sum(data['gsm3'], years, months, area)\n",
    "# gldsm4 = rs.calc_monthly_sum(data['gsm4'], years, months, area)"
   ]
  },
  {
   "cell_type": "code",
   "execution_count": null,
   "metadata": {},
   "outputs": [],
   "source": [
    "# SWE\n",
    "\n",
    "# fldas_swe = rs.calc_monthly_sum(data['fldas_swe'], range(2002, 2018), range(1,13), area)\n",
    "# gldas_swe = rs.calc_monthly_sum(data['gldas_swe'], range(2002, 2018), range(1,13), area)\n",
    "\n",
    "fldas_swe = rs.calc_monthly_mean(data['fldas_swe'], datetime.datetime(years[0]-1, 1, 1), datetime.datetime(years[-1]+1, 1, 1), area)\n",
    "gldas_swe = rs.calc_monthly_mean(data['gldas_swe'], datetime.datetime(years[0]-1, 1, 1), datetime.datetime(years[-1]+1, 1, 1), area)\n",
    "\n",
    "# dmet_swe = rs.calc_monthly_sum(data['dmet_swe'], years, months, area)"
   ]
  },
  {
   "cell_type": "code",
   "execution_count": null,
   "metadata": {},
   "outputs": [],
   "source": [
    "# Reservoir Storage\n",
    "\n",
    "reservoirs = gp.read_file(\"../shape/cdec_reservoirs.shp\")\n",
    "within_GRACE = gp.sjoin(reservoirs, shp, how='inner', op='within')\n",
    "\n",
    "res_data = {}\n",
    "\n",
    "for i in within_GRACE.ID:\n",
    "    print(\"processing \" + i )\n",
    "    url = \"https://cdec.water.ca.gov/dynamicapp/req/CSVDataServlet?Stations={}&SensorNums=15&dur_code=M&Start=2002-01-01&End=2017-12-31\".format(i)\n",
    "    urlData = requests.get(url).content\n",
    "    df = pd.read_csv(io.StringIO(urlData.decode('utf-8')))\n",
    "    \n",
    "    if df.empty:\n",
    "        pass\n",
    "    else:\n",
    "        res_data[i] = df\n"
   ]
  },
  {
   "cell_type": "code",
   "execution_count": null,
   "metadata": {},
   "outputs": [],
   "source": [
    "# Unpack the reservoir storage data and make a timeseries sum for the whole study area \n",
    "\n",
    "res_s = []\n",
    "res_df = {}\n",
    "\n",
    "for k,v in res_data.items():\n",
    "    result = pd.to_numeric(res_data[k].VALUE, errors = \"coerce\")\n",
    "    if len(result) != 192:\n",
    "        pass\n",
    "    else:\n",
    "        res_s.append(pd.to_numeric(res_data[k].VALUE, errors = \"coerce\"))\n",
    "        res_df[k] = pd.to_numeric(res_data[k].VALUE, errors = \"coerce\")\n",
    "\n",
    "res_ts = np.nansum(np.column_stack(res_s), axis = 1)\n"
   ]
  },
  {
   "cell_type": "code",
   "execution_count": null,
   "metadata": {},
   "outputs": [],
   "source": [
    "# for the other hydrology data, make a df starting 1 year earlier\n",
    "\n",
    "years2 = range(2002, 2018)\n",
    "months2 = range(1,13)\n",
    "start2 = datetime.datetime(years2[0], 1, 1)\n",
    "end2 = datetime.datetime(years2[-1]+1, 1, 1)\n",
    "dt_idx2 = pd.date_range(start2,end2, freq='M')\n",
    "\n",
    "\n",
    "df2 = pd.DataFrame([gldas_sm,tc_sm,gldas_swe,fldas_swe,res_ts*1.23348e-6]).T\n",
    "df2.columns = [\"gldas_sm\", \"tc_sm\", \"gldas_swe\", \"fldas_swe\", \"res_ts\"]\n",
    "df2.drop(df2.tail(1).index,inplace=True)\n",
    "df2.index = dt_idx2 + MonthEnd(1)"
   ]
  },
  {
   "cell_type": "code",
   "execution_count": null,
   "metadata": {},
   "outputs": [],
   "source": [
    "df = pd.DataFrame([cri,gfz,jpl,mas,csr]).T\n",
    "df.columns = ['cri','gfz','jpl','mas','csr']\n",
    "df['grace_median'] = np.median( [df.cri,df.gfz,df.jpl,df.mas,df.csr] , axis = 0)\n",
    "df.index = dt_idx\n",
    "df.index = df.index + MonthEnd(1)"
   ]
  },
  {
   "cell_type": "code",
   "execution_count": null,
   "metadata": {},
   "outputs": [],
   "source": [
    "## Now you have the Grace data in df and other dS data in df2 \n",
    "\n",
    "# Merge them\n",
    "fin_df = pd.merge(df, df2, how = \"inner\", left_index = True, right_index = True)\n",
    "\n",
    "# Calculate mean SWE and SM \n",
    "fin_df['swe'] = np.mean([fin_df.gldas_swe, fin_df.fldas_swe], axis = 0)\n",
    "fin_df['sm'] = np.mean([fin_df.tc_sm, fin_df.gldas_sm], axis = 0)\n",
    "\n",
    "# Correct GRACE signal for sm, swe, reservoir storage \n",
    "fin_df['grace'] = fin_df.grace_median - fin_df.sm.diff()  - fin_df.swe.diff() - fin_df.res_ts.diff()\n",
    "\n",
    "# Linear interpolation of missing values\n",
    "fin_df['t'] = fin_df.grace.interpolate(method=\"linear\")\n",
    "\n",
    "# 2nd order polynomial interp\n",
    "fin_df['adj'] = fin_df.grace.interpolate(method=\"polynomial\", order = 2)\n",
    "\n",
    "# apply SavGol filter \n",
    "# fin_df['ts_savgol'] = savgol_filter(fin_df.t, window_length=23, polyorder=2)"
   ]
  },
  {
   "cell_type": "code",
   "execution_count": null,
   "metadata": {},
   "outputs": [],
   "source": [
    "plt.plot(fin_df.t)\n",
    "plt.plot(fin_df.adj)"
   ]
  },
  {
   "cell_type": "code",
   "execution_count": null,
   "metadata": {},
   "outputs": [],
   "source": [
    "plt.plot(fin_df.t)\n",
    "plt.plot(fin_df.cri)\n",
    "plt.plot(fin_df.jpl)\n",
    "plt.plot(fin_df.gfz)\n",
    "plt.plot(fin_df.grace)\n",
    "plt.plot(fin_df.adj)\n",
    "# plt.plot(fin_df.ts_savgol)\n",
    "\n",
    "plt.legend()"
   ]
  },
  {
   "cell_type": "code",
   "execution_count": null,
   "metadata": {},
   "outputs": [],
   "source": [
    "fin_df.to_csv(\"../data/GRACE_extended.csv\")"
   ]
  },
  {
   "cell_type": "code",
   "execution_count": null,
   "metadata": {},
   "outputs": [],
   "source": []
  }
 ],
 "metadata": {
  "kernelspec": {
   "display_name": "Python 3",
   "language": "python",
   "name": "python3"
  },
  "language_info": {
   "codemirror_mode": {
    "name": "ipython",
    "version": 3
   },
   "file_extension": ".py",
   "mimetype": "text/x-python",
   "name": "python",
   "nbconvert_exporter": "python",
   "pygments_lexer": "ipython3",
   "version": "3.6.8"
  }
 },
 "nbformat": 4,
 "nbformat_minor": 4
}
