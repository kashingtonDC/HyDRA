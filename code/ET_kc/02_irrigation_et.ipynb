{
 "cells": [
  {
   "cell_type": "code",
   "execution_count": null,
   "metadata": {},
   "outputs": [],
   "source": [
    "import os\n",
    "import ee\n",
    "import datetime\n",
    "import time\n",
    "import sklearn\n",
    "\n",
    "import geopandas as gp\n",
    "import pandas as pd\n",
    "import numpy as np\n",
    "import rsfuncs as rs\n",
    "import matplotlib.pyplot as plt\n",
    "import matplotlib.gridspec as gridspec\n",
    "\n",
    "from pandas.tseries.offsets import MonthEnd\n",
    "from dateutil.relativedelta import relativedelta\n",
    "from sklearn import preprocessing\n",
    "\n",
    "ee.Initialize()\n",
    "%load_ext autoreload\n",
    "%autoreload 2"
   ]
  },
  {
   "cell_type": "code",
   "execution_count": null,
   "metadata": {},
   "outputs": [],
   "source": [
    "# Load the crop mapping dwr data \n",
    "cm = gp.read_file(\"../shape/Crop__Mapping_2014.shp\")\n",
    "\n",
    "# Load cv shapefile\n",
    "cvsa = gp.read_file(\"../shape/cv.shp\")\n",
    "crs = {\"init\":\"epsg:4326\"}\n",
    "cvsa.crs = crs\n",
    "\n",
    "# load canals shapefile \n",
    "canals = gp.read_file(\"../shape/Canals_and_Aqueducts_local.shp\")\n",
    "canals = gp.sjoin(canals, cvsa, op = \"within\")\n",
    "\n",
    "# Shapefiles\n",
    "hu4 = gp.read_file(\"../shape/HU4_merged.shp\")\n",
    "\n",
    "# swp = gp.read_file(\"../shape/SWP_Canals.shp\")\n",
    "# swp = gp.sjoin(swp, ca, op = \"intersects\")\n",
    "\n",
    "# Read stream reaches from c2vsim shapefile \n",
    "reaches = gp.read_file(\"../c2vsim/C2VSimFG_StreamReaches.shp\").dropna()\n",
    "reaches = reaches.to_crs({'init': 'epsg:4326'})\n",
    "\n",
    "# read rivers\n",
    "rivers = gp.read_file(\"../shape/MajorRivers.shp\")\n",
    "rivers = gp.sjoin(rivers, hu4, op = \"intersects\")\n",
    "\n",
    "# # irrigated\n",
    "# irrigated = gp.read_file(\"../shape/irrigated.shp\")\n",
    "# non_irrigated = gp.read_file(\"../shape/non_irrigated.shp\")\n",
    "\n",
    "# SSJT\n",
    "s = gp.read_file(\"../Shape/1802_4.shp\")\n",
    "sj = gp.read_file(\"../Shape/1804_4.shp\")\n",
    "t = gp.read_file(\"../Shape/1803_4.shp\")\n",
    "\n",
    "# grace footprint\n",
    "grace_sa = gp.read_file(\"../shape/argus_grace.shp\")\n",
    "\n",
    "casgem = gp.read_file(\"../shape/casgem_wells.shp\")\n",
    "casgem = gp.sjoin(casgem,cvsa, op ='within')"
   ]
  },
  {
   "cell_type": "code",
   "execution_count": null,
   "metadata": {},
   "outputs": [],
   "source": [
    "# Bar plot of of acreage by crop type in 2014\n",
    "out = {}\n",
    "\n",
    "for i in cm.DWR_Standa.unique():\n",
    "    acreage = cm[cm.DWR_Standa == i]['Acres'].sum()\n",
    "    out[i] = acreage*0.00404686 # acres to sq km"
   ]
  },
  {
   "cell_type": "code",
   "execution_count": null,
   "metadata": {},
   "outputs": [],
   "source": [
    "total = np.array(list(out.values())).sum()"
   ]
  },
  {
   "cell_type": "code",
   "execution_count": null,
   "metadata": {},
   "outputs": [],
   "source": [
    "plt.figure(figsize=(15,7))\n",
    "plt.bar(range(len(out)), out.values(), align='center')\n",
    "plt.title(\"Area by category in CV Total area = {} $km^2$\".format(str(round(total,3))), size = 20)\n",
    "plt.xticks(range(len(out)), list(out.keys()),rotation='vertical')\n",
    "plt.ylabel(\"$km^2$\", size = 15)\n",
    "plt.show()"
   ]
  },
  {
   "cell_type": "code",
   "execution_count": null,
   "metadata": {},
   "outputs": [],
   "source": [
    "irr_dfs = []\n",
    "\n",
    "for i in list(cm.DWR_Standa.unique())[4:6]:\n",
    "    print(i)\n",
    "    geoms = cm[['DWR_Standa', 'geometry']]\n",
    "    crop = geoms[geoms['DWR_Standa'] == i]\n",
    "    within_cv = gp.sjoin(crop, cvsa, op='within')\n",
    "    irr_dfs.append(within_cv)\n",
    "    \n",
    "for i in list(cm.DWR_Standa.unique())[6:]:\n",
    "    print(i)\n",
    "    geoms = cm[['DWR_Standa', 'geometry']]\n",
    "    crop = geoms[geoms['DWR_Standa'] == i]\n",
    "    within_cv = gp.sjoin(crop, cvsa, op='within')\n",
    "    irr_dfs.append(within_cv)"
   ]
  },
  {
   "cell_type": "code",
   "execution_count": null,
   "metadata": {},
   "outputs": [],
   "source": [
    "non_irr_dfs = []\n",
    "\n",
    "for i in list(cm.DWR_Standa.unique())[:1]:\n",
    "    print(i)\n",
    "    geoms = cm[['DWR_Standa', 'geometry']]\n",
    "    crop = geoms[geoms['DWR_Standa'] == i]\n",
    "    within_cv = gp.sjoin(crop, cvsa, op='within')\n",
    "    non_irr_dfs.append(within_cv)\n",
    "    \n",
    "for i in list(cm.DWR_Standa.unique())[2:4]:\n",
    "    print(i)\n",
    "    geoms = cm[['DWR_Standa', 'geometry']]\n",
    "    crop = geoms[geoms['DWR_Standa'] == i]\n",
    "    within_cv = gp.sjoin(crop, cvsa, op='within')\n",
    "    non_irr_dfs.append(within_cv)"
   ]
  },
  {
   "cell_type": "code",
   "execution_count": null,
   "metadata": {},
   "outputs": [],
   "source": [
    "fig = plt.figure(figsize=(10, 15))\n",
    "\n",
    "ax = fig.add_subplot(1, 1, 1)\n",
    "cvsa.plot(ax=ax, color = \"blue\", alpha = 0.3)\n",
    "canals.plot(ax = ax, color = \"black\", alpha = 0.8)\n",
    "\n",
    "for i in range(len(irr_dfs)):\n",
    "    irr_dfs[i].plot(ax=ax, color = \"green\", label = \"irrigated\")\n",
    "    \n",
    "for i in range(len(non_irr_dfs)):\n",
    "    non_irr_dfs[i].plot(ax=ax, color = \"red\", label = \"non irrigated\")\n",
    "\n",
    "ax.set_title(\"Irrigated (green) / Non-irrigated (red) Agriculture in CV\", size = 20)\n",
    "\n",
    "plt.legend()\n",
    "plt.show()"
   ]
  },
  {
   "cell_type": "code",
   "execution_count": null,
   "metadata": {},
   "outputs": [],
   "source": [
    "# Now Convert the irrigated acreage to earth engine multipoly and query the ET data "
   ]
  },
  {
   "cell_type": "code",
   "execution_count": null,
   "metadata": {},
   "outputs": [],
   "source": [
    "irrigated = pd.concat(irr_dfs)\n",
    "non_irrigated = pd.concat(non_irr_dfs)"
   ]
  },
  {
   "cell_type": "code",
   "execution_count": null,
   "metadata": {},
   "outputs": [],
   "source": [
    "# Write to file \n",
    "irrigated.to_file(\"../shape/irrigated_fin.shp\")\n",
    "non_irrigated.to_file(\"../shape/non_irrigated_fin.shp\")"
   ]
  },
  {
   "cell_type": "code",
   "execution_count": null,
   "metadata": {},
   "outputs": [],
   "source": [
    "# Get the RS Products\n",
    "# Time params \n",
    "years = range(2001, 2018)\n",
    "months = range(1,13)\n",
    "start = datetime.datetime(years[0], 1, 1)\n",
    "end = datetime.datetime(years[-1]+1, 2, 1)\n",
    "dt_idx = pd.date_range(start,end, freq='M')\n",
    "\n",
    "# Convert gdfs to ee polys \n",
    "area_irr = rs.get_area(irrigated, fast = True)\n",
    "area_non_irr = rs.get_area(non_irrigated, fast = True)"
   ]
  },
  {
   "cell_type": "code",
   "execution_count": null,
   "metadata": {},
   "outputs": [],
   "source": [
    "data = rs.load_data()"
   ]
  },
  {
   "cell_type": "code",
   "execution_count": null,
   "metadata": {},
   "outputs": [],
   "source": [
    "# Fetch AET in non-irrigated within CV \n",
    "fldas_aet = rs.calc_monthly_sum(data['fldas_aet'], years, months, area_non_irr)\n",
    "modis_aet = rs.calc_monthly_sum(data['modis_aet'], years, months, area_non_irr)\n",
    "tc_aet = rs.calc_monthly_sum(data['tc_aet'], years, months, area_non_irr)\n",
    "gldas_aet = rs.calc_monthly_sum(data['gldas_aet'], years, months, area_non_irr)"
   ]
  },
  {
   "cell_type": "code",
   "execution_count": null,
   "metadata": {},
   "outputs": [],
   "source": [
    "# Fetch PET data in irrigated\n",
    "eto_g = rs.calc_monthly_sum(data['gmet_eto'],years, months, area_irr)\n",
    "etr_g = rs.calc_monthly_sum(data['gmet_etr'],years, months, area_irr)"
   ]
  },
  {
   "cell_type": "code",
   "execution_count": null,
   "metadata": {},
   "outputs": [],
   "source": [
    "modis_pet = rs.calc_monthly_sum(data['modis_pet'], years, months, area_irr)"
   ]
  },
  {
   "cell_type": "code",
   "execution_count": null,
   "metadata": {},
   "outputs": [],
   "source": [
    "tc_pet = rs.calc_monthly_sum(data['tc_pet'], years, months, area_irr)"
   ]
  },
  {
   "cell_type": "code",
   "execution_count": null,
   "metadata": {},
   "outputs": [],
   "source": [
    "gldas_pet = rs.calc_monthly_sum(data['gldas_pet'], years, months, area_irr)"
   ]
  },
  {
   "cell_type": "code",
   "execution_count": null,
   "metadata": {},
   "outputs": [],
   "source": [
    "nldas_pet = rs.calc_monthly_sum(data['nldas_pet'], years, months, area_irr)"
   ]
  },
  {
   "cell_type": "code",
   "execution_count": null,
   "metadata": {},
   "outputs": [],
   "source": [
    "# Make the objects into a dict\n",
    "d_aet_irr = {\"fldas_aet\": fldas_aet,  \"gldas_aet\":gldas_aet, \"modis_aet\":modis_aet, \"tc_aet\": tc_aet}\n",
    "d_pet_irr = {\"nldas_etr\": nldas_pet, \"gldas_etr\": gldas_pet, \"gmet_eto\": eto_g, \"gmet_etr\": etr_g, \"modis_pet\": modis_pet, \"tc_pet\":tc_pet}\n",
    "\n",
    "cv_ag_dict_list = [d_aet_irr, d_pet_irr]"
   ]
  },
  {
   "cell_type": "code",
   "execution_count": null,
   "metadata": {},
   "outputs": [],
   "source": [
    "et_irr =  rs.dl_2_df(cv_ag_dict_list, dt_idx)"
   ]
  },
  {
   "cell_type": "code",
   "execution_count": null,
   "metadata": {},
   "outputs": [],
   "source": [
    "et_irr.to_csv(\"../data/et_irrigated.csv\")"
   ]
  },
  {
   "cell_type": "code",
   "execution_count": null,
   "metadata": {},
   "outputs": [],
   "source": []
  }
 ],
 "metadata": {
  "kernelspec": {
   "display_name": "Python 3",
   "language": "python",
   "name": "python3"
  },
  "language_info": {
   "codemirror_mode": {
    "name": "ipython",
    "version": 3
   },
   "file_extension": ".py",
   "mimetype": "text/x-python",
   "name": "python",
   "nbconvert_exporter": "python",
   "pygments_lexer": "ipython3",
   "version": "3.6.8"
  }
 },
 "nbformat": 4,
 "nbformat_minor": 2
}
