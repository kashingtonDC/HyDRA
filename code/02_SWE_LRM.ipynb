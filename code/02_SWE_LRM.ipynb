{
 "cells": [
  {
   "cell_type": "code",
   "execution_count": 1,
   "metadata": {},
   "outputs": [],
   "source": [
    "import os\n",
    "import matplotlib\n",
    "\n",
    "import pandas as pd\n",
    "import numpy as np\n",
    "import rasterio as rio\n",
    "import matplotlib.pyplot as plt\n",
    "import matplotlib.animation as animation\n",
    "\n",
    "from matplotlib import gridspec\n",
    "from datetime import datetime, timedelta\n",
    "from rasterio import features\n",
    "from IPython.display import HTML\n",
    "from dateutil.relativedelta import relativedelta\n",
    "from mpl_toolkits.basemap import Basemap\n",
    "from mpl_toolkits.axes_grid1.axes_divider import make_axes_locatable\n",
    "\n",
    "matplotlib.rcParams['animation.embed_limit'] = 2**128"
   ]
  },
  {
   "cell_type": "code",
   "execution_count": 2,
   "metadata": {},
   "outputs": [],
   "source": [
    "# Find SWE files\n",
    "data_dir = \"../data/LRM_SWE_monthly\"\n",
    "files = [os.path.join(data_dir,x) for x in os.listdir(data_dir) if x.endswith(\".tif\")]\n",
    "files.sort()"
   ]
  },
  {
   "cell_type": "code",
   "execution_count": 3,
   "metadata": {},
   "outputs": [],
   "source": [
    "# Read the files, mask, extract dates\n",
    "imdict = {}\n",
    "\n",
    "for i in files[:]:\n",
    "    date = datetime.strptime(i[-12:-4],'%Y%m%d')+ timedelta(days=-1)\n",
    "    datestr = date.strftime('%Y%m%d')\n",
    "    arr = rio.open(i)\n",
    "    msk = arr.read_masks(1)\n",
    "    dat = arr.read(1) * msk\n",
    "    fdat = np.where(dat != 0,dat, np.nan)\n",
    "    imdict[datestr] = fdat"
   ]
  },
  {
   "cell_type": "code",
   "execution_count": 4,
   "metadata": {},
   "outputs": [],
   "source": [
    "# Fill in the dates with no SWE with nans \n",
    "dt_idx = pd.date_range(list(imdict.keys())[0], list(imdict.keys())[-1], freq = \"M\")\n",
    "\n",
    "all_dates = {}\n",
    "\n",
    "for i in dt_idx:\n",
    "    date = i.strftime(\"%Y%m%d\") \n",
    "    \n",
    "    if date in imdict.keys():\n",
    "        im = imdict[date]\n",
    "    else:\n",
    "        im = np.zeros_like(list(imdict.values())[0])\n",
    "        im[im==0] = np.nan\n",
    "    all_dates[date] = im"
   ]
  },
  {
   "cell_type": "code",
   "execution_count": 5,
   "metadata": {},
   "outputs": [],
   "source": [
    "# Stack all dates to 3D array\n",
    "cvws_swe = np.dstack(list(all_dates.values()))\n",
    "\n",
    "# Compute monthly sums\n",
    "swesums = []\n",
    "for i in range(cvws_swe.shape[2]):\n",
    "    swesums.append(np.nansum(cvws_swe[:,:,i]) * 500 * 1e-9) # mult by 500m pixel size, convert m^3 to km^3"
   ]
  },
  {
   "cell_type": "code",
   "execution_count": null,
   "metadata": {},
   "outputs": [],
   "source": [
    "# Make animation\n",
    "\n",
    "# Setup BBox\n",
    "lon_top_left, lat_bottom_left, lon_top_right, lat_top_left = arr.bounds\n",
    "extent=[lon_top_left,lon_top_right,lat_bottom_left,lat_top_left]\n",
    "\n",
    "# Setup figure\n",
    "fig, ax = plt.subplots(figsize=(12,4))\n",
    "gs = gridspec.GridSpec(1, 2, width_ratios=[1, 2]) \n",
    "\n",
    "# Plot basemap at t0\n",
    "ax0 = plt.subplot(gs[0])\n",
    "cax = plt.imshow(cvws_swe[:,:,0], cmap = 'Blues', extent = extent, vmin = 0, vmax = 500)\n",
    "plt.colorbar()\n",
    "\n",
    "# Plot timeseries at t0\n",
    "ax1 = plt.subplot(gs[1])\n",
    "line, = ax1.plot(dt_idx,np.array(swesums),color='k')\n",
    "ax1.set_ylabel(\"SWE $(km^3)$\")\n",
    "\n",
    "# Function to animate \n",
    "def animate(frame):\n",
    "    cax.set_array(cvws_swe[:,:,frame]) \n",
    "    ax0.set_title(\"UCB SWE ($m^3 / m^3$) \" + str(dt_idx[frame])[:-12])\n",
    "    line.set_data(dt_idx[:frame],swesums[:frame])\n",
    "\n",
    "# Finally, we use the animation module to create the animation.\n",
    "ani = animation.FuncAnimation(\n",
    "    fig,             # figure\n",
    "    animate,         # name of the function above\n",
    "    frames= cvws_swe.shape[2],       # Could also be iterable or list\n",
    "    interval=200, # ms between frames\n",
    "    repeat = True\n",
    ")\n",
    "\n",
    "HTML(ani.to_jshtml())"
   ]
  },
  {
   "cell_type": "code",
   "execution_count": null,
   "metadata": {},
   "outputs": [],
   "source": [
    "swedf = pd.DataFrame(swesums, index = dt_idx)\n",
    "swedf.columns = [\"SWE_km3\"]"
   ]
  },
  {
   "cell_type": "code",
   "execution_count": null,
   "metadata": {},
   "outputs": [],
   "source": [
    "swedf.diff().plot()"
   ]
  },
  {
   "cell_type": "code",
   "execution_count": null,
   "metadata": {},
   "outputs": [],
   "source": [
    "# ani.save('../images/cvws_swe.gif', writer='imagemagick')"
   ]
  },
  {
   "cell_type": "code",
   "execution_count": null,
   "metadata": {},
   "outputs": [],
   "source": [
    "# Make a nicer figure and animation with basemap "
   ]
  },
  {
   "cell_type": "code",
   "execution_count": null,
   "metadata": {},
   "outputs": [],
   "source": [
    "# Setup fig \n",
    "f, ax1 = plt.subplots(1,1,figsize=(6,9))\n",
    "\n",
    "# get bbox of swe data\n",
    "imextent = arr.bounds\n",
    "lllon, lllat = imextent[0], imextent[1]\n",
    "urlon, urlat = imextent[2], imextent[3]\n",
    "\n",
    "# Initialize the basemap\n",
    "m = Basemap(ax = ax1,projection='merc', ellps='WGS84',resolution='f', \n",
    "            llcrnrlon=lllon, urcrnrlon=urlon, llcrnrlat=lllat, urcrnrlat=urlat) # CVWS bbox for basemap\n",
    "\n",
    "# Add stuff to basemap \n",
    "# m.etopo(zorder = 0)\n",
    "m.shadedrelief(zorder = 0)\n",
    "m.drawcoastlines(color='gray')\n",
    "m.drawcountries(color='gray')\n",
    "m.drawstates(color='gray')\n",
    "m.drawrivers(color = \"blue\")\n",
    "m.fillcontinents(color='none',lake_color='blue')\n",
    "\n",
    "# Draw lines of latitude and longitude. Labels are like [left,right,top,bottom]\n",
    "parallels = np.arange(0.,90.,2.)\n",
    "meridians = np.arange(0.,360.,2.)\n",
    "\n",
    "m.drawparallels(parallels,labels=[True,False,True,False]) # [left,right,top,bottom]\n",
    "m.drawmeridians(meridians,labels=[True,False,False,True]) # [left,right,top,bottom]\n",
    "\n",
    "# Plot array \n",
    "mean_swe = np.flipud(np.nanmean(cvws_swe, axis = 2))\n",
    "im = m.imshow(mean_swe, cmap='gist_ncar', vmin = 0, vmax = np.nanmax(mean_swe))\n",
    "\n",
    "# Set location of the colorbar\n",
    "divider = make_axes_locatable(ax1)\n",
    "cax = divider.append_axes(\"right\", size=\"5%\", pad=0.05)\n",
    "f.colorbar(mappable=im, cax=cax, label='mean monthly SWE ($m^3/m^3$)')\n",
    "\n",
    "ax1.set_title('UCB mean monthly SWE($m^3/m^3$)')\n",
    "plt.show()"
   ]
  },
  {
   "cell_type": "code",
   "execution_count": null,
   "metadata": {},
   "outputs": [],
   "source": [
    "# Make animation\n",
    "\n",
    "# Setup fig \n",
    "f, ax = plt.subplots(figsize=(12,4))\n",
    "\n",
    "# get bbox of swe data\n",
    "imextent = arr.bounds\n",
    "lllon, lllat = imextent[0], imextent[1]\n",
    "urlon, urlat = imextent[2], imextent[3]\n",
    "\n",
    "# Select the first fig on left \n",
    "gs = gridspec.GridSpec(1, 2, width_ratios=[1, 2]) \n",
    "ax0 = plt.subplot(gs[0])\n",
    "\n",
    "# Initialize the basemap\n",
    "m = Basemap(ax = ax0,projection='merc', ellps='WGS84',resolution='i', \n",
    "            llcrnrlon=lllon, urcrnrlon=urlon, llcrnrlat=lllat, urcrnrlat=urlat) # CVWS bbox for basemap\n",
    "\n",
    "# Add stuff to basemap \n",
    "m.shadedrelief(zorder = 0)\n",
    "m.drawcoastlines(color='gray')\n",
    "m.drawcountries(color='gray')\n",
    "m.drawstates(color='gray')\n",
    "m.drawrivers(color = \"blue\")\n",
    "m.fillcontinents(color='none',lake_color='blue')\n",
    "\n",
    "# Draw lines of latitude and longitude. Labels are like [left,right,top,bottom]\n",
    "parallels = np.arange(0.,90.,2.)\n",
    "meridians = np.arange(0.,360.,2.)\n",
    "\n",
    "m.drawparallels(parallels,labels=[True,False,True,False]) # [left,right,top,bottom]\n",
    "m.drawmeridians(meridians,labels=[True,False,False,True]) # [left,right,top,bottom]\n",
    "\n",
    "# Plot array \n",
    "im = m.imshow(np.flipud(cvws_swe[:,:,0]), cmap='gist_ncar', vmin = 0, vmax = 300)\n",
    "\n",
    "# Set location of the colorbar\n",
    "divider = make_axes_locatable(ax0)\n",
    "cax = divider.append_axes(\"right\", size=\"5%\", pad=0.05)\n",
    "f.colorbar(mappable=im, cax=cax)\n",
    "\n",
    "######## Time Series Plot\n",
    "ax1 = plt.subplot(gs[1])\n",
    "line, = ax1.plot(dt_idx,swesums,color='k')\n",
    "ax1.set_ylabel(\"SWE $(km^3)$\")\n",
    "\n",
    "###### Animation Functions\n",
    "def animate(frame):\n",
    "    im.set_array(np.array(np.flipud(cvws_swe[:,:,frame]))) \n",
    "    ax0.set_title(\"UCB SWE ($m^3 / m^3$) \" + str(dt_idx[frame])[:-12])\n",
    "    line.set_data(dt_idx[:frame],swesums[:frame])\n",
    "    ax1.set_title(\"total SWE {} = {} $km^3$ \".format(str(dt_idx[frame])[:-12],str(round(np.nansum(swesums[frame]),2))))\n",
    "\n",
    "# Finally, use the animation module to create the animation.\n",
    "ani = animation.FuncAnimation(\n",
    "    f,               # figure\n",
    "    animate,         # name of the function above\n",
    "    frames= cvws_swe.shape[2],       # Could also be iterable or list\n",
    "    interval=250, # ms between frames\n",
    "    repeat = True\n",
    ")\n",
    "\n",
    "HTML(ani.to_jshtml())"
   ]
  },
  {
   "cell_type": "code",
   "execution_count": null,
   "metadata": {},
   "outputs": [],
   "source": [
    "ani.save('../images/cvws_swe.gif', writer='imagemagick')"
   ]
  },
  {
   "cell_type": "code",
   "execution_count": null,
   "metadata": {},
   "outputs": [],
   "source": []
  }
 ],
 "metadata": {
  "kernelspec": {
   "display_name": "Python 3",
   "language": "python",
   "name": "python3"
  },
  "language_info": {
   "codemirror_mode": {
    "name": "ipython",
    "version": 3
   },
   "file_extension": ".py",
   "mimetype": "text/x-python",
   "name": "python",
   "nbconvert_exporter": "python",
   "pygments_lexer": "ipython3",
   "version": "3.8.2"
  }
 },
 "nbformat": 4,
 "nbformat_minor": 4
}
