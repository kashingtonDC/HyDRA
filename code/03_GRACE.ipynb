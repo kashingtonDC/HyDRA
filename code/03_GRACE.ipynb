{
 "cells": [
  {
   "cell_type": "code",
   "execution_count": 1,
   "metadata": {},
   "outputs": [],
   "source": [
    "import os\n",
    "import ee\n",
    "import datetime\n",
    "import time\n",
    "import io\n",
    "import requests\n",
    "import urllib.request\n",
    "\n",
    "import geopandas as gp\n",
    "import numpy as np\n",
    "import pandas as pd\n",
    "import rsfuncs as rs\n",
    "import matplotlib.pyplot as plt\n",
    "\n",
    "from dateutil.relativedelta import relativedelta\n",
    "from pandas.tseries.offsets import MonthEnd\n",
    "from tqdm.notebook import tqdm\n",
    "\n",
    "ee.Initialize()\n",
    "\n",
    "%load_ext autoreload\n",
    "%autoreload 2"
   ]
  },
  {
   "cell_type": "code",
   "execution_count": 2,
   "metadata": {},
   "outputs": [],
   "source": [
    "# Select area\n",
    "shp = gp.read_file(\"../shape/argus_grace.shp\")\n",
    "area = rs.gdf_to_ee_poly(shp)\n",
    "\n",
    "# Load data\n",
    "data = rs.load_data()"
   ]
  },
  {
   "cell_type": "code",
   "execution_count": 3,
   "metadata": {},
   "outputs": [
    {
     "name": "stdout",
     "output_type": "stream",
     "text": [
      "processing:\n",
      "NASA/GRACE/MASS_GRIDS/MASCON_CRI/20020331_20020429\n"
     ]
    },
    {
     "data": {
      "application/vnd.jupyter.widget-view+json": {
       "model_id": "126a2f00dbef4d479701647d631d0857",
       "version_major": 2,
       "version_minor": 0
      },
      "text/plain": [
       "HBox(children=(FloatProgress(value=0.0, max=180.0), HTML(value='')))"
      ]
     },
     "metadata": {},
     "output_type": "display_data"
    },
    {
     "name": "stdout",
     "output_type": "stream",
     "text": [
      "\n",
      "processing:\n",
      "NASA/GRACE/MASS_GRIDS/MASCON/20020331_20020429\n"
     ]
    },
    {
     "data": {
      "application/vnd.jupyter.widget-view+json": {
       "model_id": "88f001473005462bbeec14b83b11b50b",
       "version_major": 2,
       "version_minor": 0
      },
      "text/plain": [
       "HBox(children=(FloatProgress(value=0.0, max=180.0), HTML(value='')))"
      ]
     },
     "metadata": {},
     "output_type": "display_data"
    },
    {
     "name": "stdout",
     "output_type": "stream",
     "text": [
      "\n",
      "processing:\n",
      "NASA/GRACE/MASS_GRIDS/LAND/20020401_20020430\n"
     ]
    },
    {
     "data": {
      "application/vnd.jupyter.widget-view+json": {
       "model_id": "aede1d67f27244a884644e40ae4e92e9",
       "version_major": 2,
       "version_minor": 0
      },
      "text/plain": [
       "HBox(children=(FloatProgress(value=0.0, max=180.0), HTML(value='')))"
      ]
     },
     "metadata": {},
     "output_type": "display_data"
    },
    {
     "name": "stdout",
     "output_type": "stream",
     "text": [
      "\n",
      "processing:\n",
      "NASA/GRACE/MASS_GRIDS/LAND/20020401_20020430\n"
     ]
    },
    {
     "data": {
      "application/vnd.jupyter.widget-view+json": {
       "model_id": "ac86a34b45bb43db8bd5f063538ac80d",
       "version_major": 2,
       "version_minor": 0
      },
      "text/plain": [
       "HBox(children=(FloatProgress(value=0.0, max=180.0), HTML(value='')))"
      ]
     },
     "metadata": {},
     "output_type": "display_data"
    },
    {
     "name": "stdout",
     "output_type": "stream",
     "text": [
      "\n",
      "processing:\n",
      "NASA/GRACE/MASS_GRIDS/LAND/20020401_20020430\n"
     ]
    },
    {
     "data": {
      "application/vnd.jupyter.widget-view+json": {
       "model_id": "09699c4f003440f8a34b38875d08e322",
       "version_major": 2,
       "version_minor": 0
      },
      "text/plain": [
       "HBox(children=(FloatProgress(value=0.0, max=180.0), HTML(value='')))"
      ]
     },
     "metadata": {},
     "output_type": "display_data"
    },
    {
     "name": "stdout",
     "output_type": "stream",
     "text": [
      "\n"
     ]
    }
   ],
   "source": [
    "# Set GRACE study period \n",
    "strstart = '2002-04-01'\n",
    "strend = '2017-03-31'\n",
    "\n",
    "startgrace = datetime.datetime.strptime(strstart, \"%Y-%m-%d\")\n",
    "endgrace = datetime.datetime.strptime(strend, \"%Y-%m-%d\")\n",
    "# Get grace products\n",
    "cri = rs.get_grace(data['cri'], startgrace, endgrace, area)\n",
    "mas = rs.get_grace(data['mas'], startgrace, endgrace, area)\n",
    "gfz = rs.get_grace(data['gfz'], startgrace, endgrace, area)\n",
    "csr = rs.get_grace(data['csr'], startgrace, endgrace, area)\n",
    "jpl = rs.get_grace(data['jpl'], startgrace, endgrace, area)"
   ]
  },
  {
   "cell_type": "code",
   "execution_count": 4,
   "metadata": {},
   "outputs": [
    {
     "name": "stderr",
     "output_type": "stream",
     "text": [
      "<ipython-input-4-b6dddf6c49ac>:4: RuntimeWarning: Mean of empty slice\n",
      "  df['grace_mean'] = np.nanmean( [df.cri,df.gfz,df.jpl,df.mas,df.csr] , axis = 0)\n",
      "/anaconda3/envs/sci/lib/python3.8/site-packages/numpy/lib/nanfunctions.py:1115: RuntimeWarning: All-NaN slice encountered\n",
      "  r, k = function_base._ureduce(a, func=_nanmedian, axis=axis, out=out,\n"
     ]
    }
   ],
   "source": [
    "# Compile grace data \n",
    "df = pd.concat([cri,gfz,jpl,mas,csr], axis = 1)\n",
    "df.columns = ['cri','gfz','jpl','mas','csr']\n",
    "df['grace_mean'] = np.nanmean( [df.cri,df.gfz,df.jpl,df.mas,df.csr] , axis = 0)\n",
    "df['grace_median'] = np.nanmedian( [df.cri,df.gfz,df.jpl,df.mas,df.csr] , axis = 0)\n",
    "df.index = pd.date_range(startgrace,endgrace, freq=\"M\")\n",
    "df.index = df.index + MonthEnd(0)\n"
   ]
  },
  {
   "cell_type": "code",
   "execution_count": null,
   "metadata": {},
   "outputs": [],
   "source": []
  },
  {
   "cell_type": "code",
   "execution_count": 5,
   "metadata": {},
   "outputs": [],
   "source": [
    "# Now the Hydrology data "
   ]
  },
  {
   "cell_type": "code",
   "execution_count": 6,
   "metadata": {
    "scrolled": false
   },
   "outputs": [
    {
     "name": "stdout",
     "output_type": "stream",
     "text": [
      "processing:\n",
      "IDAHO_EPSCOR/TERRACLIMATE/195801\n"
     ]
    },
    {
     "data": {
      "application/vnd.jupyter.widget-view+json": {
       "model_id": "802f066074db4fcaad8141eac2981d9a",
       "version_major": 2,
       "version_minor": 0
      },
      "text/plain": [
       "HBox(children=(FloatProgress(value=0.0, max=181.0), HTML(value='')))"
      ]
     },
     "metadata": {},
     "output_type": "display_data"
    },
    {
     "name": "stdout",
     "output_type": "stream",
     "text": [
      "\n",
      "processing:\n",
      "NASA/GLDAS/V021/NOAH/G025/T3H/A20000102_0000\n"
     ]
    },
    {
     "data": {
      "application/vnd.jupyter.widget-view+json": {
       "model_id": "611c5da411bb4f1586df4205edaee4b3",
       "version_major": 2,
       "version_minor": 0
      },
      "text/plain": [
       "HBox(children=(FloatProgress(value=0.0, max=181.0), HTML(value='')))"
      ]
     },
     "metadata": {},
     "output_type": "display_data"
    },
    {
     "name": "stdout",
     "output_type": "stream",
     "text": [
      "\n",
      "processing:\n",
      "NASA/GLDAS/V021/NOAH/G025/T3H/A20000102_0000\n"
     ]
    },
    {
     "data": {
      "application/vnd.jupyter.widget-view+json": {
       "model_id": "3617fd9fa72643c99763a2062ee2d23c",
       "version_major": 2,
       "version_minor": 0
      },
      "text/plain": [
       "HBox(children=(FloatProgress(value=0.0, max=181.0), HTML(value='')))"
      ]
     },
     "metadata": {},
     "output_type": "display_data"
    },
    {
     "name": "stdout",
     "output_type": "stream",
     "text": [
      "\n",
      "processing:\n",
      "NASA/GLDAS/V021/NOAH/G025/T3H/A20000102_0000\n"
     ]
    },
    {
     "data": {
      "application/vnd.jupyter.widget-view+json": {
       "model_id": "fce93ff698c24c1abca6d67a3e481a3d",
       "version_major": 2,
       "version_minor": 0
      },
      "text/plain": [
       "HBox(children=(FloatProgress(value=0.0, max=181.0), HTML(value='')))"
      ]
     },
     "metadata": {},
     "output_type": "display_data"
    },
    {
     "name": "stdout",
     "output_type": "stream",
     "text": [
      "\n",
      "processing:\n",
      "NASA/GLDAS/V021/NOAH/G025/T3H/A20000102_0000\n"
     ]
    },
    {
     "data": {
      "application/vnd.jupyter.widget-view+json": {
       "model_id": "5936a174149b49d2bd42c8ba6098e721",
       "version_major": 2,
       "version_minor": 0
      },
      "text/plain": [
       "HBox(children=(FloatProgress(value=0.0, max=181.0), HTML(value='')))"
      ]
     },
     "metadata": {},
     "output_type": "display_data"
    },
    {
     "name": "stdout",
     "output_type": "stream",
     "text": [
      "\n",
      "processing:\n",
      "NASA/FLDAS/NOAH01/C/GL/M/V001/198201\n"
     ]
    },
    {
     "data": {
      "application/vnd.jupyter.widget-view+json": {
       "model_id": "715d60e94fef4b19b4f496b392f699aa",
       "version_major": 2,
       "version_minor": 0
      },
      "text/plain": [
       "HBox(children=(FloatProgress(value=0.0, max=181.0), HTML(value='')))"
      ]
     },
     "metadata": {},
     "output_type": "display_data"
    },
    {
     "name": "stdout",
     "output_type": "stream",
     "text": [
      "\n",
      "processing:\n",
      "NASA/GLDAS/V021/NOAH/G025/T3H/A20000102_0000\n"
     ]
    },
    {
     "data": {
      "application/vnd.jupyter.widget-view+json": {
       "model_id": "252b25d3aba34c77b912179426c6f872",
       "version_major": 2,
       "version_minor": 0
      },
      "text/plain": [
       "HBox(children=(FloatProgress(value=0.0, max=181.0), HTML(value='')))"
      ]
     },
     "metadata": {},
     "output_type": "display_data"
    },
    {
     "name": "stdout",
     "output_type": "stream",
     "text": [
      "\n",
      "processing:\n",
      "IDAHO_EPSCOR/TERRACLIMATE/195801\n"
     ]
    },
    {
     "data": {
      "application/vnd.jupyter.widget-view+json": {
       "model_id": "ce4176eabbea4f6c974100a0c3b7e4f8",
       "version_major": 2,
       "version_minor": 0
      },
      "text/plain": [
       "HBox(children=(FloatProgress(value=0.0, max=181.0), HTML(value='')))"
      ]
     },
     "metadata": {},
     "output_type": "display_data"
    },
    {
     "name": "stdout",
     "output_type": "stream",
     "text": [
      "\n"
     ]
    }
   ],
   "source": [
    "# Add an extra month beforehand, since we are differencing from the starting point, (e.g. dS/dt) \n",
    "strstart = '2002-03-01'\n",
    "strend = '2017-03-31'\n",
    "\n",
    "startdate = datetime.datetime.strptime(strstart, \"%Y-%m-%d\")\n",
    "enddate = datetime.datetime.strptime(strend, \"%Y-%m-%d\")\n",
    "\n",
    "# Soil moisture\n",
    "tc_sm = rs.calc_monthly_mean(data['tc_sm'], startdate, enddate, area)\n",
    "\n",
    "gldas_gsm1 = rs.calc_monthly_mean(data['gsm1'], startdate, enddate, area)\n",
    "gldas_gsm2 = rs.calc_monthly_mean(data['gsm2'], startdate, enddate, area)\n",
    "gldas_gsm3 = rs.calc_monthly_mean(data['gsm3'], startdate, enddate, area)\n",
    "gldas_gsm4 = rs.calc_monthly_mean(data['gsm4'], startdate, enddate, area)\n",
    "\n",
    "# SWE\n",
    "fldas_swe = rs.calc_monthly_mean(data['fldas_swe'], startdate,enddate, area)\n",
    "gldas_swe = rs.calc_monthly_mean(data['gldas_swe'], startdate,enddate, area)\n",
    "tc_swe = rs.calc_monthly_mean(data['tc_swe'], startdate,enddate, area)\n",
    "dmet_swe = rs.calc_monthly_mean(data['dmet_swe'], startdate,enddate, area)"
   ]
  },
  {
   "cell_type": "code",
   "execution_count": 7,
   "metadata": {},
   "outputs": [
    {
     "name": "stdout",
     "output_type": "stream",
     "text": [
      "processing:\n",
      "NASA/ORNL/DAYMET_V3/19800101\n"
     ]
    },
    {
     "data": {
      "application/vnd.jupyter.widget-view+json": {
       "model_id": "bbbe3e4f568049559910f04b9a744b85",
       "version_major": 2,
       "version_minor": 0
      },
      "text/plain": [
       "HBox(children=(FloatProgress(value=0.0, max=181.0), HTML(value='')))"
      ]
     },
     "metadata": {},
     "output_type": "display_data"
    },
    {
     "name": "stdout",
     "output_type": "stream",
     "text": [
      "\n"
     ]
    }
   ],
   "source": []
  },
  {
   "cell_type": "code",
   "execution_count": 8,
   "metadata": {},
   "outputs": [
    {
     "name": "stdout",
     "output_type": "stream",
     "text": [
      "**** Begin Fetching CDEC Reservoir Storage Data for ../shape/argus_grace.shp ****\n"
     ]
    },
    {
     "data": {
      "application/vnd.jupyter.widget-view+json": {
       "model_id": "3943f29780c84aaeac8ae76686824844",
       "version_major": 2,
       "version_minor": 0
      },
      "text/plain": [
       "HBox(children=(FloatProgress(value=0.0, max=616.0), HTML(value='')))"
      ]
     },
     "metadata": {},
     "output_type": "display_data"
    },
    {
     "name": "stdout",
     "output_type": "stream",
     "text": [
      "processing ABY\n",
      "processing ADI\n",
      "processing ADN\n",
      "processing AGP\n",
      "processing APH\n",
      "processing ALT\n",
      "processing AMF\n",
      "processing APS\n",
      "processing APU\n",
      "processing ANT\n",
      "processing ANR\n",
      "processing ATS\n",
      "processing ATP\n",
      "processing AVL\n",
      "processing ASH\n",
      "processing ASM\n",
      "processing ATW\n",
      "processing ABR\n",
      "processing AUB\n",
      "processing BDF\n",
      "processing BFK\n",
      "processing BAL\n",
      "processing BNG\n",
      "processing BHM\n",
      "processing BBS\n",
      "processing CFW\n",
      "processing BRM\n",
      "processing BV1\n",
      "processing BMD\n",
      "processing BRD\n",
      "processing BHV\n",
      "processing BEM\n",
      "processing BNH\n",
      "processing BER\n",
      "processing BGC\n",
      "processing BFT\n",
      "processing BGM\n",
      "processing BMS\n",
      "processing BP1\n",
      "processing BP2\n",
      "processing BP3\n",
      "processing BWH\n",
      "processing BGH\n",
      "processing BIS\n",
      "processing BSP\n",
      "processing BSH\n",
      "processing BLB\n",
      "processing BLS\n",
      "processing BCB\n",
      "processing BMN\n",
      "processing BLD\n",
      "processing BLC\n",
      "processing BYM\n",
      "processing BLU\n",
      "processing BLK\n",
      "processing BCA\n",
      "processing BOC\n",
      "processing BDE\n",
      "processing BNP\n",
      "processing BNM\n",
      "processing BOW\n",
      "processing BOL\n",
      "processing BOM\n",
      "processing BWN\n",
      "processing BXC\n",
      "processing BWR\n",
      "processing BPT\n",
      "processing BDG\n",
      "processing BDP\n",
      "processing BCP\n",
      "processing BCM\n",
      "processing BUC\n",
      "processing BUP\n",
      "processing BCL\n",
      "processing BLF\n",
      "processing BNS\n",
      "processing BTV\n",
      "processing CCH\n",
      "processing CVE\n",
      "processing CVT\n",
      "processing CAL\n",
      "processing CMN\n",
      "processing CCN\n",
      "processing CPD\n",
      "processing CAM\n",
      "processing CNY\n",
      "processing CPT\n",
      "processing CAP\n",
      "processing CPL\n",
      "processing CBO\n",
      "processing CSV\n",
      "processing CSD\n",
      "processing CAS\n",
      "processing CC5\n",
      "processing CDP\n",
      "processing CDV\n",
      "processing CHB\n",
      "processing CHK\n",
      "processing CMC\n",
      "processing CLT\n",
      "processing CHY\n",
      "processing CVD\n",
      "processing CHS\n",
      "processing CHF\n",
      "processing CES\n",
      "processing CKT\n",
      "processing CHM\n",
      "processing CHQ\n",
      "processing CHU\n",
      "processing CCO\n",
      "processing CFM\n",
      "processing CLA\n",
      "processing CLK\n",
      "processing CLM\n",
      "processing CLN\n",
      "processing CFF\n",
      "processing CBM\n",
      "processing CLF\n",
      "processing CRA\n",
      "processing CRF\n",
      "processing CRM\n",
      "processing CSN\n",
      "processing CTT\n",
      "processing CW1\n",
      "processing CWP\n",
      "processing CUR\n",
      "processing CTG\n",
      "processing CYT\n",
      "processing CYC\n",
      "processing CBT\n",
      "processing CNV\n",
      "processing CRR\n",
      "processing CRC\n",
      "processing DCN\n",
      "processing DAN\n",
      "processing DVS\n",
      "processing DSB\n",
      "processing DHC\n",
      "processing DHM\n",
      "processing DDF\n",
      "processing DDM\n",
      "processing DRC\n",
      "processing YBD\n",
      "processing DLV\n",
      "processing DPO\n",
      "processing DMN\n",
      "processing DSM\n",
      "processing DNP\n",
      "processing DON\n",
      "processing DNL\n",
      "processing DMS\n",
      "processing DNS\n",
      "processing DWV\n",
      "processing DYL\n",
      "processing DRM\n",
      "processing DNM\n",
      "processing DTL\n",
      "processing DWN\n",
      "processing DYM\n",
      "processing EGL\n",
      "processing EGM\n",
      "processing EFC\n",
      "processing EPK\n",
      "processing EPP\n",
      "processing EWR\n",
      "processing ECH\n",
      "processing EP5\n",
      "processing ECS\n",
      "processing ELL\n",
      "processing ERY\n",
      "processing EML\n",
      "processing ENG\n",
      "processing ENM\n",
      "processing ETN\n",
      "processing ERB\n",
      "processing EUR\n",
      "processing FRF\n",
      "processing FMT\n",
      "processing FRW\n",
      "processing FTT\n",
      "processing FTO\n",
      "processing FEM\n",
      "processing NIC\n",
      "processing FDD\n",
      "processing FNP\n",
      "processing FLC\n",
      "processing FLR\n",
      "processing FLD\n",
      "processing FOL\n",
      "processing FSC\n",
      "processing FBD\n",
      "processing FRH\n",
      "processing FKM\n",
      "processing FBW\n",
      "processing FJN\n",
      "processing FDM\n",
      "processing FP3\n",
      "processing FBN\n",
      "processing FRL\n",
      "processing FMD\n",
      "processing FCV\n",
      "processing FRD\n",
      "processing FRO\n",
      "processing MIL\n",
      "processing FGC\n",
      "processing FNF\n",
      "processing GLK\n",
      "processing GML\n",
      "processing GEM\n",
      "processing GRG\n",
      "processing GNL\n",
      "processing GFR\n",
      "processing GNF\n",
      "processing GBL\n",
      "processing GIB\n",
      "processing GBS\n",
      "processing GBN\n",
      "processing GFL\n",
      "processing GLV\n",
      "processing GNG\n",
      "processing GRO\n",
      "processing GNT\n",
      "processing GSV\n",
      "processing GYR\n",
      "processing GRZ\n",
      "processing GVL\n",
      "processing GHS\n",
      "processing GYF\n",
      "processing HMS\n",
      "processing HND\n",
      "processing HRF\n",
      "processing HRR\n",
      "processing HTC\n",
      "processing HRT\n",
      "processing HHL\n",
      "processing HLK\n",
      "processing HLM\n",
      "processing HDC\n",
      "processing HRG\n",
      "processing HTH\n",
      "processing HID\n",
      "processing HIG\n",
      "processing HHM\n",
      "processing HCK\n",
      "processing HKM\n",
      "processing HLS\n",
      "processing HCM\n",
      "processing HRS\n",
      "processing HSS\n",
      "processing HCL\n",
      "processing HS2\n",
      "processing HTT\n",
      "processing HNT\n",
      "processing HYS\n",
      "processing IHS\n",
      "processing ICH\n",
      "processing IPN\n",
      "processing INL\n",
      "processing INV\n",
      "processing IRC\n",
      "processing ISB\n",
      "processing JCM\n",
      "processing JCK\n",
      "processing JKM\n",
      "processing JNK\n",
      "processing JSV\n",
      "processing JCR\n",
      "processing JNL\n",
      "processing JNM\n",
      "processing KSR\n",
      "processing KWT\n",
      "processing KP3\n",
      "processing KR3\n",
      "processing KRB\n",
      "processing KRI\n",
      "processing KRC\n",
      "processing KES\n",
      "processing KTL\n",
      "processing KGF\n",
      "processing KLI\n",
      "processing ALM\n",
      "processing ABN\n",
      "processing BIT\n",
      "processing CRW\n",
      "processing DAV\n",
      "processing ENR\n",
      "processing FOD\n",
      "processing HNN\n",
      "processing LLL\n",
      "processing MCS\n",
      "processing MCO\n",
      "processing MCR\n",
      "processing NAT\n",
      "processing LPA\n",
      "processing PLL\n",
      "processing PRU\n",
      "processing SBN\n",
      "processing ATN\n",
      "processing SPD\n",
      "processing LSP\n",
      "processing BWS\n",
      "processing TAH\n",
      "processing THE\n",
      "processing LVC\n",
      "processing LVY\n",
      "processing LVT\n",
      "processing LMC\n",
      "processing LRA\n",
      "processing LTT\n",
      "processing LEW\n",
      "processing LFH\n",
      "processing LXN\n",
      "processing LNG\n",
      "processing LND\n",
      "processing LGV\n",
      "processing LSH\n",
      "processing LWM\n",
      "processing LBD\n",
      "processing LDG\n",
      "processing LMD\n",
      "processing LON\n",
      "processing LSB\n",
      "processing LVQ\n",
      "processing LCR\n",
      "processing LWB\n",
      "processing LCP\n",
      "processing LKB\n",
      "processing LLP\n",
      "processing REL\n",
      "processing LB2\n",
      "processing LYN\n",
      "processing LYS\n",
      "processing MDR\n",
      "processing MMT\n",
      "processing MAM\n",
      "processing MPL\n",
      "processing MZL\n",
      "processing MRP\n",
      "processing MKV\n",
      "processing MRT\n",
      "processing MAT\n",
      "processing MLD\n",
      "processing MSS\n",
      "processing MCT\n",
      "processing MCP\n",
      "processing MWL\n",
      "processing MDC\n",
      "processing MFS\n",
      "processing MRC\n",
      "processing MDS\n",
      "processing MBL\n",
      "processing MB3\n",
      "processing MLF\n",
      "processing MN2\n",
      "processing MNR\n",
      "processing MNK\n",
      "processing MIC\n",
      "processing MCB\n",
      "processing MCN\n",
      "processing MDE\n",
      "processing MDO\n",
      "processing MKM\n",
      "processing MNP\n",
      "processing MDY\n",
      "processing MD2\n",
      "processing HML\n",
      "processing MHG\n",
      "processing MSH\n",
      "processing MSC\n",
      "processing MSV\n",
      "processing MNH\n",
      "processing MMW\n",
      "processing MUM\n",
      "processing NCM\n",
      "processing NCD\n",
      "processing NSH\n",
      "processing NPH\n",
      "processing NLL\n",
      "processing NVD\n",
      "processing BUL\n",
      "processing EXC\n",
      "processing NGM\n",
      "processing NHG\n",
      "processing NMN\n",
      "processing NMQ\n",
      "processing NML\n",
      "processing NGF\n",
      "processing NCA\n",
      "processing NFR\n",
      "processing NFS\n",
      "processing NTH\n",
      "processing 8SI\n",
      "processing NRF\n",
      "processing OKC\n",
      "processing OWW\n",
      "processing OEM\n",
      "processing ONF\n",
      "processing ONN\n",
      "processing ORL\n",
      "processing ORO\n",
      "processing ORT\n",
      "processing STR\n",
      "processing OTR\n",
      "processing OWL\n",
      "processing PCF\n",
      "processing PFV\n",
      "processing PLC\n",
      "processing PNH\n",
      "processing PTM\n",
      "processing PRD\n",
      "processing PDS\n",
      "processing PAR\n",
      "processing PRK\n",
      "processing PSC\n",
      "processing PGM\n",
      "processing PHL\n",
      "processing PLP\n",
      "processing PNF\n",
      "processing PCR\n",
      "processing PNB\n",
      "processing PR1\n",
      "processing PT6\n",
      "processing PT7\n",
      "processing PSH\n",
      "processing PPS\n",
      "processing PCV\n",
      "processing PSM\n",
      "processing PLE\n",
      "processing PDT\n",
      "processing PMD\n",
      "processing PRT\n",
      "processing PRM\n",
      "processing PSV\n",
      "processing PRS\n",
      "processing PYM\n",
      "processing QKA\n",
      "processing QRD\n",
      "processing QNC\n",
      "processing QRS\n",
      "processing RFM\n",
      "processing RMM\n",
      "processing RTT\n",
      "processing RBF\n",
      "processing RDM\n",
      "processing RRM\n",
      "processing RDN\n",
      "processing RLF\n",
      "processing RLD\n",
      "processing RCH\n",
      "processing RGT\n",
      "processing RBV\n",
      "processing RCW\n",
      "processing RCR\n",
      "processing RC1\n",
      "processing RC2\n",
      "processing RC3\n",
      "processing RGC\n",
      "processing RLL\n",
      "processing RMR\n",
      "processing RDC\n",
      "processing RMD\n",
      "processing RWM\n",
      "processing RWL\n",
      "processing RP1\n",
      "processing RP2\n",
      "processing RRH\n",
      "processing HEA\n",
      "processing SPE\n",
      "processing SA2\n",
      "processing SDT\n",
      "processing SBB\n",
      "processing SCR\n",
      "processing SIS\n",
      "processing SDL\n",
      "processing SDB\n",
      "processing SGH\n",
      "processing PAS\n",
      "processing SLS\n",
      "processing SSR\n",
      "processing SAT\n",
      "processing 5SI\n",
      "processing SJF\n",
      "processing SNL\n",
      "processing SLF\n",
      "processing LUS\n",
      "processing SFT\n",
      "processing SDM\n",
      "processing CRZ\n",
      "processing SLN\n",
      "processing SRO\n",
      "processing SHW\n",
      "processing SRF\n",
      "processing SWM\n",
      "processing SWL\n",
      "processing SCE\n",
      "processing SFJ\n",
      "processing SFL\n",
      "processing SHA\n",
      "processing SHO\n",
      "processing SHV\n",
      "processing SHM\n",
      "processing SIB\n",
      "processing SRR\n",
      "processing SIL\n",
      "processing SVR\n",
      "processing SIV\n",
      "processing SLB\n",
      "processing SLT\n",
      "processing SLA\n",
      "processing SLC\n",
      "processing SLP\n",
      "processing SNF\n",
      "processing SMT\n",
      "processing SCF\n",
      "processing SSG\n",
      "processing SRP\n",
      "processing SOR\n",
      "processing SLJ\n",
      "processing BEV\n",
      "processing SEY\n",
      "processing SLK\n",
      "processing SSJ\n",
      "processing Y31\n",
      "processing Y34\n",
      "processing SPM\n",
      "processing SPF\n",
      "processing SFB\n",
      "processing SGV\n",
      "processing SQ2\n",
      "processing STP\n",
      "processing SLM\n",
      "processing SNS\n",
      "processing SMD\n",
      "processing SET\n",
      "processing STK\n",
      "processing STG\n",
      "processing STM\n",
      "processing SWB\n",
      "processing STV\n",
      "processing EDN\n",
      "processing SCC\n",
      "processing SSM\n",
      "processing SSN\n",
      "processing SWJ\n",
      "processing SWT\n",
      "processing TAC\n",
      "processing TBC\n"
     ]
    },
    {
     "name": "stdout",
     "output_type": "stream",
     "text": [
      "processing TMK\n",
      "processing TMF\n",
      "processing TNY\n",
      "processing TRM\n",
      "processing TMT\n",
      "processing TAB\n",
      "processing THD\n",
      "processing TFR\n",
      "processing TAE\n",
      "processing THL\n",
      "processing 3LK\n",
      "processing 3RV\n",
      "processing TCP\n",
      "processing TNM\n",
      "processing TGP\n",
      "processing TCR\n",
      "processing TRG\n",
      "processing TRL\n",
      "processing CLE\n",
      "processing TNL\n",
      "processing TRF\n",
      "processing TKT\n",
      "processing TKE\n",
      "processing 6SI\n",
      "processing TUL\n",
      "processing STU\n",
      "processing TUM\n",
      "processing TLG\n",
      "processing TLC\n",
      "processing TND\n",
      "processing USL\n",
      "processing UNV\n",
      "processing UBC\n",
      "processing UCP\n",
      "processing UKR\n",
      "processing UTR\n",
      "processing UWD\n",
      "processing VNN\n",
      "processing VNT\n",
      "processing VGL\n",
      "processing VRG\n",
      "processing VSL\n",
      "processing VLC\n",
      "processing WBM\n",
      "processing WR2\n",
      "processing WRN\n",
      "processing WSC\n",
      "processing WVR\n",
      "processing WBB\n",
      "processing WPK\n",
      "processing WFC\n",
      "processing WPT\n",
      "processing WWR\n",
      "processing WHN\n",
      "processing WHE\n",
      "processing WHK\n",
      "processing WHI\n",
      "processing WLF\n",
      "processing WLW\n",
      "processing WSN\n",
      "processing WSD\n",
      "processing WLC\n",
      "processing WDH\n",
      "processing WDL\n",
      "processing WRG\n",
      "processing YSV\n",
      "processing YRK\n",
      "processing YBP\n",
      "processing YRS\n",
      "\n",
      "Mean reservoir storage = Sres    30.257681\n",
      "dtype: float64 km^3\n",
      "Reservoir Storage DONE ====================================== \n"
     ]
    }
   ],
   "source": [
    "shpfile = \"../shape/argus_grace.shp\"\n",
    "\n",
    "# Get the Reservoir data in the grace domain \n",
    "print(\"**** Begin Fetching CDEC Reservoir Storage Data for {} ****\".format(shpfile))\n",
    "\n",
    "# Read the shapefile \n",
    "gdf = gp.read_file(shpfile)\n",
    "\n",
    "# Spatial join cdec reservoirs to supplied gdf \n",
    "reservoirs = gp.read_file(\"../shape/cdec_reservoirs.shp\")\n",
    "within_gdf = gp.sjoin(reservoirs, gdf, how='inner', op='within')\n",
    "\n",
    "# Download Storage (SensorNums = 15) data by query str:\n",
    "start = datetime.datetime(1997, 1, 1)\n",
    "end = datetime.datetime(2020, 1, 1)\n",
    "dt_idx = pd.date_range(start,end, freq='M')\n",
    "\n",
    "data = {}\n",
    "\n",
    "for i in tqdm(within_gdf.ID):\n",
    "    print(\"processing \" + i )\n",
    "    url = \"https://cdec.water.ca.gov/dynamicapp/req/CSVDataServlet?Stations={}&SensorNums=15&dur_code=M&Start=1997-01-01&End=2020-01-01\".format(i)\n",
    "    urlData = requests.get(url).content\n",
    "    resdf = pd.read_csv(io.StringIO(urlData.decode('utf-8')))\n",
    "\n",
    "    if resdf.empty:\n",
    "        pass\n",
    "    else:\n",
    "        data[i] = resdf\n",
    "\n",
    "storage = []\n",
    "for k,v in data.items():\n",
    "    dat = pd.to_numeric(data[k].VALUE, errors = \"coerce\")\n",
    "    if not len(dat) < len(dt_idx):\n",
    "        storage.append(pd.to_numeric(data[k].VALUE, errors = \"coerce\"))\n",
    "\n",
    "storage_sum = np.nansum(np.column_stack(storage), axis = 1) * 1.23348e-6 # acre ft to km^3\n",
    "Sres = pd.DataFrame(zip(dt_idx,storage_sum), columns = ['date',\"Sres\"])\n",
    "Sres.set_index('date', inplace = True)\n",
    "\n",
    "print(\"Mean reservoir storage = {} km^3\".format(np.mean(Sres)))\n",
    "\n",
    "print(\"Reservoir Storage DONE ====================================== \")\n",
    "\n"
   ]
  },
  {
   "cell_type": "code",
   "execution_count": null,
   "metadata": {},
   "outputs": [],
   "source": []
  },
  {
   "cell_type": "code",
   "execution_count": 9,
   "metadata": {},
   "outputs": [],
   "source": [
    "# Compile hydro data \n",
    "gldas_sm = pd.DataFrame(pd.concat([gldas_gsm1,gldas_gsm2,gldas_gsm3,gldas_gsm4], axis = 1).sum(axis =1))\n",
    "gldas_sm.columns=['gldas_sm']\n",
    "\n",
    "hydrodf = pd.concat([gldas_sm,tc_sm,gldas_swe,fldas_swe,tc_swe, dmet_swe], axis = 1)\n",
    "hydrodf.columns = [\"gldas_sm\", \"tc_sm\", \"gldas_swe\", \"fldas_swe\", \"tc_swe\", \"dmet_swe\"]\n",
    "\n",
    "hydrodf.index = hydrodf.index + MonthEnd(0)\n",
    "\n",
    "# Merge to Sres\n",
    "hdf = pd.merge(hydrodf, Sres, how = 'outer', left_index = True, right_index = True)\n",
    "\n",
    "# Merge to grace dat \n",
    "dfout =  pd.merge(df, hdf, how = \"outer\", left_index = True, right_index = True)\n",
    "\n",
    "# smooth polynomial interpolation of missing values (recommended by Swensen, Famig)\n",
    "dfout['grace_med_interp'] = dfout['grace_median'].interpolate(method=\"polynomial\", order = 2)"
   ]
  },
  {
   "cell_type": "code",
   "execution_count": 10,
   "metadata": {},
   "outputs": [],
   "source": [
    "# Correct for SM, SWE, Sres\n",
    "dfout['grace'] = dfout['grace_med_interp'] - dfout['tc_sm'].diff() - dfout['Sres'].diff() - dfout['dmet_swe']"
   ]
  },
  {
   "cell_type": "code",
   "execution_count": 11,
   "metadata": {},
   "outputs": [
    {
     "data": {
      "text/plain": [
       "<matplotlib.axes._subplots.AxesSubplot at 0x12101f040>"
      ]
     },
     "execution_count": 11,
     "metadata": {},
     "output_type": "execute_result"
    },
    {
     "data": {
      "image/png": "[encoded data removed]",
      "text/plain": [
       "<Figure size 432x288 with 1 Axes>"
      ]
     },
     "metadata": {
      "needs_background": "light"
     },
     "output_type": "display_data"
    }
   ],
   "source": [
    "dfout.grace.dropna().plot()"
   ]
  },
  {
   "cell_type": "code",
   "execution_count": 12,
   "metadata": {},
   "outputs": [],
   "source": [
    "# Write\n",
    "dfout.to_csv(\"../data/grace.csv\")"
   ]
  },
  {
   "cell_type": "code",
   "execution_count": null,
   "metadata": {},
   "outputs": [],
   "source": []
  }
 ],
 "metadata": {
  "kernelspec": {
   "display_name": "Python 3",
   "language": "python",
   "name": "python3"
  },
  "language_info": {
   "codemirror_mode": {
    "name": "ipython",
    "version": 3
   },
   "file_extension": ".py",
   "mimetype": "text/x-python",
   "name": "python",
   "nbconvert_exporter": "python",
   "pygments_lexer": "ipython3",
   "version": "3.8.2"
  }
 },
 "nbformat": 4,
 "nbformat_minor": 4
}
