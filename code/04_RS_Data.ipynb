{
 "cells": [
  {
   "cell_type": "code",
   "execution_count": null,
   "metadata": {
    "collapsed": true,
    "jupyter": {
     "outputs_hidden": true
    }
   },
   "outputs": [],
   "source": [
    "import os\n",
    "import ee\n",
    "import datetime\n",
    "import time\n",
    "import sklearn\n",
    "import importlib\n",
    "\n",
    "import geopandas as gp\n",
    "import pandas as pd\n",
    "import numpy as np\n",
    "import rsfuncs as rs\n",
    "import matplotlib.pyplot as plt\n",
    "import matplotlib.gridspec as gridspec\n",
    "\n",
    "from pandas.tseries.offsets import MonthEnd\n",
    "from dateutil.relativedelta import relativedelta\n",
    "from sklearn import preprocessing\n",
    "\n",
    "ee.Initialize()"
   ]
  },
  {
   "cell_type": "code",
   "execution_count": null,
   "metadata": {
    "collapsed": true,
    "jupyter": {
     "outputs_hidden": true
    }
   },
   "outputs": [],
   "source": [
    "# Load cv shapefile\n",
    "cvsa = gp.read_file(\"../shape/cv.shp\")\n",
    "crs = {\"init\":\"epsg:4326\"}\n",
    "cvsa.crs = crs\n",
    "\n",
    "# CVW shapefile \n",
    "cvw = gp.read_file(\"../shape/HU4_merged.shp\")\n",
    "\n",
    "# irrigated / non irrigated areas \n",
    "irrigated = gp.read_file(\"../shape/irrigated.shp\")\n",
    "non_irrigated = gp.read_file(\"../shape/non_irrigated.shp\")\n",
    "\n",
    "# SSJT basins \n",
    "s = gp.read_file(\"../Shape/1802_4.shp\")\n",
    "sj = gp.read_file(\"../Shape/1804_4.shp\")\n",
    "t = gp.read_file(\"../Shape/1803_4.shp\")\n",
    "\n",
    "# grace footprint\n",
    "grace_sa = gp.read_file(\"../shape/argus_grace.shp\")\n",
    "\n",
    "# Casgem wells \n",
    "casgem = gp.read_file(\"../shape/casgem_wells.shp\")\n",
    "casgem = gp.sjoin(casgem,cvsa, op ='within')"
   ]
  },
  {
   "cell_type": "code",
   "execution_count": null,
   "metadata": {
    "collapsed": true,
    "jupyter": {
     "outputs_hidden": true
    }
   },
   "outputs": [],
   "source": [
    "# Make EE objects from shapefiles "
   ]
  },
  {
   "cell_type": "code",
   "execution_count": null,
   "metadata": {
    "collapsed": true,
    "jupyter": {
     "outputs_hidden": true
    }
   },
   "outputs": [],
   "source": [
    "area_irr = rs.get_area(irrigated, fast = True)"
   ]
  },
  {
   "cell_type": "code",
   "execution_count": null,
   "metadata": {
    "collapsed": true,
    "jupyter": {
     "outputs_hidden": true
    }
   },
   "outputs": [],
   "source": [
    "area_non_irr = rs.get_area(non_irrigated, fast = True)"
   ]
  },
  {
   "cell_type": "code",
   "execution_count": null,
   "metadata": {
    "collapsed": true,
    "jupyter": {
     "outputs_hidden": true
    }
   },
   "outputs": [],
   "source": [
    "area_cv = rs.gdf_to_ee_poly(cvsa)"
   ]
  },
  {
   "cell_type": "code",
   "execution_count": null,
   "metadata": {
    "collapsed": true,
    "jupyter": {
     "outputs_hidden": true
    }
   },
   "outputs": [],
   "source": [
    "area_cvw = rs.gdf_to_ee_poly(cvw)"
   ]
  },
  {
   "cell_type": "code",
   "execution_count": null,
   "metadata": {
    "collapsed": true,
    "jupyter": {
     "outputs_hidden": true
    }
   },
   "outputs": [],
   "source": [
    "data = rs.load_data()"
   ]
  },
  {
   "cell_type": "code",
   "execution_count": null,
   "metadata": {
    "collapsed": true,
    "jupyter": {
     "outputs_hidden": true
    }
   },
   "outputs": [],
   "source": [
    "# Time params \n",
    "years = range(2001, 2018)\n",
    "months = range(1,13)\n",
    "start = datetime.datetime(years[0], 1, 1)\n",
    "end = datetime.datetime(years[-1]+1, 2, 1)\n",
    "dt_idx = pd.date_range(start,end, freq='M')"
   ]
  },
  {
   "cell_type": "markdown",
   "metadata": {},
   "source": [
    "# Non irrigated ET"
   ]
  },
  {
   "cell_type": "code",
   "execution_count": null,
   "metadata": {
    "collapsed": true,
    "jupyter": {
     "outputs_hidden": true
    }
   },
   "outputs": [],
   "source": [
    "# Fetch AET in non-irrigated within CV \n",
    "fldas_aet = rs.calc_monthly_sum(data['fldas_aet'], years, months, area_non_irr)\n",
    "modis_aet = rs.calc_monthly_sum(data['modis_aet'], years, months, area_non_irr)\n",
    "tc_aet = rs.calc_monthly_sum(data['tc_aet'], years, months, area_non_irr)\n",
    "gldas_aet = rs.calc_monthly_sum(data['gldas_aet'], years, months, area_non_irr)"
   ]
  },
  {
   "cell_type": "code",
   "execution_count": null,
   "metadata": {
    "collapsed": true,
    "jupyter": {
     "outputs_hidden": true
    }
   },
   "outputs": [],
   "source": [
    "# PET in non-irrigated (no gldas/nldas)\n",
    "gmet_pet_non_irr = rs.calc_monthly_sum(data['gmet_eto'], years, months, area_non_irr)\n",
    "gmet_pet2_non_irr = rs.calc_monthly_sum(data['gmet_etr'], years, months, area_non_irr)\n",
    "modis_pet_non_irr = rs.calc_monthly_sum(data['modis_pet'], years, months, area_non_irr)\n",
    "tc_pet_non_irr = rs.calc_monthly_sum(data['tc_pet'], years, months, area_non_irr)\n",
    "\n",
    "# gldas_pet_non_irr = rs.calc_monthly_sum(data['gldas_pet'], years, months, area_non_irr)\n",
    "# nldas_pet_non_irr = rs.calc_monthly_sum(data['nldas_pet'], years, months, area_non_irr)"
   ]
  },
  {
   "cell_type": "markdown",
   "metadata": {},
   "source": [
    "# Irrigated ET"
   ]
  },
  {
   "cell_type": "code",
   "execution_count": null,
   "metadata": {
    "collapsed": true,
    "jupyter": {
     "outputs_hidden": true
    }
   },
   "outputs": [],
   "source": [
    "# Fetch PET data in irrigated\n",
    "eto_g = rs.calc_monthly_sum(data['gmet_eto'],years, months, area_irr)\n",
    "etr_g = rs.calc_monthly_sum(data['gmet_etr'],years, months, area_irr)"
   ]
  },
  {
   "cell_type": "code",
   "execution_count": null,
   "metadata": {
    "collapsed": true,
    "jupyter": {
     "outputs_hidden": true
    }
   },
   "outputs": [],
   "source": [
    "modis_pet = rs.calc_monthly_sum(data['modis_pet'], years, months, area_irr)"
   ]
  },
  {
   "cell_type": "code",
   "execution_count": null,
   "metadata": {},
   "outputs": [],
   "source": [
    "tc_pet = rs.calc_monthly_sum(data['tc_pet'], years, months, area_irr)"
   ]
  },
  {
   "cell_type": "code",
   "execution_count": null,
   "metadata": {
    "collapsed": true,
    "jupyter": {
     "outputs_hidden": true
    }
   },
   "outputs": [],
   "source": [
    "gldas_pet = rs.calc_monthly_sum(data['gldas_pet'], years, months, area_irr)"
   ]
  },
  {
   "cell_type": "code",
   "execution_count": null,
   "metadata": {
    "collapsed": true,
    "jupyter": {
     "outputs_hidden": true
    }
   },
   "outputs": [],
   "source": [
    "nldas_pet = rs.calc_monthly_sum(data['nldas_pet'], years, months, area_irr)"
   ]
  },
  {
   "cell_type": "code",
   "execution_count": null,
   "metadata": {},
   "outputs": [],
   "source": [
    "# Make the objects into a dict, sum the irrigated PET and non irrigated AET \n",
    "d_aet_irr = {\"fldas_aet\": fldas_aet,  \"gldas_aet\":gldas_aet, \"modis_aet\":modis_aet, \"tc_aet\": tc_aet}\n",
    "d_pet_irr = {\"nldas_etr\": nldas_pet, \"gldas_etr\": gldas_pet, \"gmet_eto\": eto_g, \"gmet_etr\": etr_g, \"modis_pet\": modis_pet, \"tc_pet\":tc_pet}\n",
    "\n",
    "cv_ag_dict_list = [d_aet_irr, d_pet_irr]"
   ]
  },
  {
   "cell_type": "markdown",
   "metadata": {},
   "source": [
    "# Whole Central Valley"
   ]
  },
  {
   "cell_type": "code",
   "execution_count": null,
   "metadata": {
    "collapsed": true,
    "jupyter": {
     "outputs_hidden": true
    }
   },
   "outputs": [],
   "source": [
    "# AET (subtract from CVW)\n",
    "cv_fldas_aet = rs.calc_monthly_sum(data['fldas_aet'], years, months, area_cv)\n",
    "cv_modis_aet = rs.calc_monthly_sum(data['modis_aet'], years, months, area_cv)\n",
    "cv_tc_aet = rs.calc_monthly_sum(data['tc_aet'], years, months, area_cv)\n",
    "cv_gldas_aet = rs.calc_monthly_sum(data['gldas_aet'], years, months, area_cv)"
   ]
  },
  {
   "cell_type": "code",
   "execution_count": null,
   "metadata": {
    "collapsed": true,
    "jupyter": {
     "outputs_hidden": true
    }
   },
   "outputs": [],
   "source": [
    "# PET (subtract from cvw)\n",
    "cv_gmet_pet = rs.calc_monthly_sum(data['gmet_eto'], years, months, area_cv)\n",
    "cv_gmet_pet2 = rs.calc_monthly_sum(data['gmet_etr'], years, months, area_cv)\n",
    "cv_modis_pet = rs.calc_monthly_sum(data['modis_pet'], years, months, area_cv)\n",
    "cv_tc_pet = rs.calc_monthly_sum(data['tc_pet'], years, months, area_cv)\n"
   ]
  },
  {
   "cell_type": "code",
   "execution_count": null,
   "metadata": {
    "collapsed": true,
    "jupyter": {
     "outputs_hidden": true
    }
   },
   "outputs": [],
   "source": [
    "cv_gldas_pet = rs.calc_monthly_sum(data['gldas_pet'], years, months, area_cv)\n"
   ]
  },
  {
   "cell_type": "code",
   "execution_count": null,
   "metadata": {},
   "outputs": [],
   "source": [
    "cv_nldas_pet = rs.calc_monthly_sum(data['nldas_pet'], years, months, area_cv)"
   ]
  },
  {
   "cell_type": "code",
   "execution_count": null,
   "metadata": {
    "collapsed": true,
    "jupyter": {
     "outputs_hidden": true
    }
   },
   "outputs": [],
   "source": [
    "# Soil moisture\n",
    "cv_tc_sm = rs.calc_monthly_sum(data['tc_sm'], years, months, area_cv)"
   ]
  },
  {
   "cell_type": "code",
   "execution_count": null,
   "metadata": {
    "collapsed": true,
    "jupyter": {
     "outputs_hidden": true
    }
   },
   "outputs": [],
   "source": [
    "cv_gldsm1 = rs.calc_monthly_sum(data['gsm1'], years, months, area_cv)"
   ]
  },
  {
   "cell_type": "code",
   "execution_count": null,
   "metadata": {},
   "outputs": [],
   "source": [
    "cv_gldsm2 = rs.calc_monthly_sum(data['gsm2'], years, months, area_cv)"
   ]
  },
  {
   "cell_type": "code",
   "execution_count": null,
   "metadata": {},
   "outputs": [],
   "source": [
    "cv_gldsm3 = rs.calc_monthly_sum(data['gsm3'], years, months, area_cv)\n",
    "cv_gldsm4 = rs.calc_monthly_sum(data['gsm4'], years, months, area_cv)"
   ]
  },
  {
   "cell_type": "code",
   "execution_count": null,
   "metadata": {
    "collapsed": true,
    "jupyter": {
     "outputs_hidden": true
    }
   },
   "outputs": [],
   "source": [
    "cv_gldas_sm = rs.calc_monthly_sum(data['gldas_sm'], years ,months,area_cv)"
   ]
  },
  {
   "cell_type": "code",
   "execution_count": null,
   "metadata": {
    "collapsed": true,
    "jupyter": {
     "outputs_hidden": true
    }
   },
   "outputs": [],
   "source": [
    "# Precipitation\n",
    "cv_p_p = rs.calc_monthly_sum(data['prism'], years, months, area_cv)\n",
    "cv_p_c = rs.calc_monthly_sum(data['chirps'], years, months, area_cv)\n",
    "cv_p_n = rs.calc_monthly_sum(data['persia'], years, months, area_cv)\n",
    "cv_p_t = rs.calc_monthly_sum(data['trmm'], years, months, area_cv)\n",
    "cv_p_d = rs.calc_monthly_sum(data['dmet'], years, months, area_cv)"
   ]
  },
  {
   "cell_type": "code",
   "execution_count": null,
   "metadata": {
    "collapsed": true,
    "jupyter": {
     "outputs_hidden": true
    }
   },
   "outputs": [],
   "source": [
    "# Runoff\n",
    "cv_r_tc = rs.calc_monthly_sum(data['tc_r'], years, months, area_cv)\n",
    "cv_r_fldas = rs.calc_monthly_sum(data['fldas_r'], years, months, area_cv)\n",
    "\n",
    "cv_gldas_ssr = rs.calc_monthly_sum(data['ssr'], years, months, area_cv)\n",
    "cv_gldas_bfr = rs.calc_monthly_sum(data['bfr'], years, months, area_cv)\n",
    "cv_gldas_qsm = rs.calc_monthly_sum(data['qsm'], years, months, area_cv)"
   ]
  },
  {
   "cell_type": "code",
   "execution_count": null,
   "metadata": {},
   "outputs": [],
   "source": [
    "# Make a df from everything \n",
    "cv_d_r = {\"gldas_ssr\":cv_gldas_ssr, \"gldas_bfr\": cv_gldas_bfr, \"gldas_qsm\": cv_gldas_qsm,\n",
    "       \"gldas\":np.column_stack(np.array(x) for x in [cv_gldas_ssr,cv_gldas_bfr,cv_gldas_qsm]).sum(axis=1), \n",
    "       \"fldas_r\": cv_r_fldas, \"tc_r\": cv_r_tc}\n",
    "\n",
    "cv_d_p = {'p_prism': cv_p_p, \"p_chirps\": cv_p_c, \"p_persiann\": cv_p_n,\"p_trmm\": cv_p_t, \"p_daymet\": cv_p_d}\n",
    "cv_d_sm = {\"gldas_sm\": cv_gldas_sm, \"tc_sm\": cv_tc_sm, \n",
    "           \"gldas_m\": np.column_stack(np.array(x) for x in [cv_gldsm1,cv_gldsm2,cv_gldsm3, cv_gldsm4]).mean(axis=1)}\n",
    "cv_d_aet = {\"fldas_aet\": cv_fldas_aet,  \"gldas_aet\":cv_gldas_aet, \"modis_aet\":cv_modis_aet, \"tc_aet\": cv_tc_aet}\n",
    "cv_d_pet = {\"nldas_etr\": cv_nldas_pet, \"gldas_etr\": cv_gldas_pet, \"gmet_eto\": cv_gmet_pet, \"gmet_etr\": cv_gmet_pet2, \"modis_pet\": cv_modis_pet, \"tc_pet\":cv_tc_pet}\n",
    "\n",
    "\n",
    "cv_dict_list = [cv_d_r, cv_d_p, cv_d_sm, cv_d_aet, cv_d_pet]"
   ]
  },
  {
   "cell_type": "markdown",
   "metadata": {},
   "source": [
    "# Central Valley Watershed "
   ]
  },
  {
   "cell_type": "code",
   "execution_count": null,
   "metadata": {
    "collapsed": true,
    "jupyter": {
     "outputs_hidden": true
    }
   },
   "outputs": [],
   "source": [
    "# AET (don't need PET)\n",
    "cvw_fldas_aet = rs.calc_monthly_sum(data['fldas_aet'], years, months, area_cvw)\n",
    "cvw_modis_aet = rs.calc_monthly_sum(data['modis_aet'], years, months, area_cvw)\n",
    "cvw_tc_aet = rs.calc_monthly_sum(data['tc_aet'], years, months, area_cvw)\n",
    "cvw_gldas_aet = rs.calc_monthly_sum(data['gldas_aet'], years, months, area_cvw)"
   ]
  },
  {
   "cell_type": "code",
   "execution_count": null,
   "metadata": {
    "collapsed": true,
    "jupyter": {
     "outputs_hidden": true
    }
   },
   "outputs": [],
   "source": [
    "# PET\n",
    "cvw_gmet_pet = rs.calc_monthly_sum(data['gmet_eto'], years, months, area_cvw)\n",
    "cvw_gmet_pet2 = rs.calc_monthly_sum(data['gmet_etr'], years, months, area_cvw)\n",
    "cvw_modis_pet = rs.calc_monthly_sum(data['modis_pet'], years, months, area_cvw)\n",
    "cvw_tc_pet = rs.calc_monthly_sum(data['tc_pet'], years, months, area_cvw)"
   ]
  },
  {
   "cell_type": "code",
   "execution_count": null,
   "metadata": {
    "collapsed": true,
    "jupyter": {
     "outputs_hidden": true
    }
   },
   "outputs": [],
   "source": [
    "cvw_gldas_pet = rs.calc_monthly_sum(data['gldas_pet'], years, months, area_cvw)\n",
    "cvw_nldas_pet = rs.calc_monthly_sum(data['nldas_pet'], years, months, area_cvw)"
   ]
  },
  {
   "cell_type": "code",
   "execution_count": null,
   "metadata": {
    "collapsed": true,
    "jupyter": {
     "outputs_hidden": true
    }
   },
   "outputs": [],
   "source": [
    "# Precipitation\n",
    "cvw_p_p = rs.calc_monthly_sum(data['prism'], years, months, area_cvw)\n",
    "cvw_p_c = rs.calc_monthly_sum(data['chirps'], years, months, area_cvw)\n",
    "cvw_p_n = rs.calc_monthly_sum(data['persia'], years, months, area_cvw)\n",
    "cvw_p_t = rs.calc_monthly_sum(data['trmm'], years, months, area_cvw)\n",
    "cvw_p_d = rs.calc_monthly_sum(data['dmet'], years, months, area_cvw)"
   ]
  },
  {
   "cell_type": "code",
   "execution_count": null,
   "metadata": {
    "collapsed": true,
    "jupyter": {
     "outputs_hidden": true
    }
   },
   "outputs": [],
   "source": [
    "# Runoff\n",
    "cvw_r_tc = rs.calc_monthly_sum(data['tc_r'], years, months, area_cvw)\n",
    "cvw_r_fldas = rs.calc_monthly_sum(data['fldas_r'], years, months, area_cvw)\n",
    "\n",
    "cvw_gldas_ssr = rs.calc_monthly_sum(data['ssr'], years, months, area_cvw)\n",
    "cvw_gldas_bfr = rs.calc_monthly_sum(data['bfr'], years, months, area_cvw)\n",
    "cvw_gldas_qsm = rs.calc_monthly_sum(data['qsm'], years, months, area_cvw)"
   ]
  },
  {
   "cell_type": "code",
   "execution_count": null,
   "metadata": {
    "collapsed": true,
    "jupyter": {
     "outputs_hidden": true
    }
   },
   "outputs": [],
   "source": [
    "#SWE\n",
    "cvw_gldas_swe = rs.calc_monthly_sum(data['gldas_swe'], years, months, area_cvw)\n",
    "cvw_fldas_swe = rs.calc_monthly_sum(data['fldas_swe'], years, months, area_cvw)"
   ]
  },
  {
   "cell_type": "code",
   "execution_count": null,
   "metadata": {
    "collapsed": true,
    "jupyter": {
     "outputs_hidden": true
    }
   },
   "outputs": [],
   "source": [
    "# SM\n",
    "cvw_gldas_sm = rs.calc_monthly_sum(data['gldas_sm'], years ,months,area_cvw)\n",
    "cvw_tc_sm = rs.calc_monthly_sum(data['tc_sm'], years, months, area_cvw)"
   ]
  },
  {
   "cell_type": "code",
   "execution_count": null,
   "metadata": {
    "collapsed": true,
    "jupyter": {
     "outputs_hidden": true
    }
   },
   "outputs": [],
   "source": [
    "cvw_gldsm1 = rs.calc_monthly_sum(data['gsm1'], years, months, area_cvw)"
   ]
  },
  {
   "cell_type": "code",
   "execution_count": null,
   "metadata": {},
   "outputs": [],
   "source": [
    "cvw_tc_sm = rs.calc_monthly_sum(data['tc_sm'], years, months, area_cvw)"
   ]
  },
  {
   "cell_type": "code",
   "execution_count": null,
   "metadata": {},
   "outputs": [],
   "source": [
    "cvw_gldsm2 = rs.calc_monthly_sum(data['gsm2'], years, months, area_cvw)\n",
    "cvw_gldsm3 = rs.calc_monthly_sum(data['gsm3'], years, months, area_cvw)\n",
    "cvw_gldsm4 = rs.calc_monthly_sum(data['gsm4'], years, months, area_cvw)"
   ]
  },
  {
   "cell_type": "code",
   "execution_count": null,
   "metadata": {},
   "outputs": [],
   "source": [
    "# Make a df from everything \n",
    "cvw_d_aet = {\"fldas_aet\": cvw_fldas_aet,  \"gldas_aet\":cvw_gldas_aet, \"modis_aet\":cvw_modis_aet, \"tc_aet\": cvw_tc_aet}\n",
    "cvw_d_pet = {\"nldas_etr\": cvw_nldas_pet, \"gldas_etr\": cvw_gldas_pet, \"gmet_eto\": cvw_gmet_pet, \"gmet_etr\": cvw_gmet_pet2, \"modis_pet\": cvw_modis_pet, \"tc_pet\":cvw_tc_pet}\n",
    "\n",
    "cvw_d_r = {\"gldas_ssr\":cvw_gldas_ssr , \"gldas_bfr\": cvw_gldas_bfr, \"gldas_qsm\": cvw_gldas_qsm,\n",
    "       \"gldas\":np.column_stack(np.array(x) for x in [cvw_gldas_ssr,cvw_gldas_bfr,cvw_gldas_qsm]).sum(axis=1), \n",
    "       \"fldas_r\": cvw_r_fldas, \"tc_r\": cvw_r_tc}\n",
    "cvw_d_p = {'p_prism': cvw_p_p, \"p_chirps\": cvw_p_c, \"p_persiann\": cvw_p_n,\"p_trmm\": cvw_p_t, \"p_daymet\": cvw_p_d}\n",
    "cvw_d_sm = {\"gldas_sm\": cvw_gldas_sm, \"tc_sm\": cvw_tc_sm, \n",
    "           \"gldas_m\": np.column_stack(np.array(x) for x in [cvw_gldsm1,cvw_gldsm2,cvw_gldsm3, cvw_gldsm4]).mean(axis=1)}\n",
    "\n",
    "cvw_d_swe = {\"fldas_swe\": cvw_fldas_swe, \"gldas_swe\": cvw_gldas_swe}\n",
    "\n",
    "cvw_dict_list = [cvw_d_aet,cvw_d_pet, cvw_d_r, cvw_d_p, cvw_d_sm,cvw_d_swe]\n"
   ]
  },
  {
   "cell_type": "code",
   "execution_count": null,
   "metadata": {},
   "outputs": [],
   "source": [
    "# Make DFs from the areas"
   ]
  },
  {
   "cell_type": "code",
   "execution_count": null,
   "metadata": {},
   "outputs": [],
   "source": [
    "def dl_2_df(dict_list):\n",
    "    alldat = [item for sublist in [x.values() for x in dict_list] for item in sublist]\n",
    "    # Make the df\n",
    "    alldata = pd.DataFrame(alldat).T\n",
    "    alldata.index = dt_idx\n",
    "    col_headers = [item for sublist in [x.keys() for x in dict_list] for item in sublist]\n",
    "    alldata.columns = col_headers\n",
    "\n",
    "    return alldata\n"
   ]
  },
  {
   "cell_type": "code",
   "execution_count": null,
   "metadata": {},
   "outputs": [],
   "source": [
    "cv_dat = dl_2_df(cv_dict_list)\n",
    "cv_ag_dat = dl_2_df(cv_ag_dict_list)\n",
    "cvw_dat = dl_2_df(cvw_dict_list)"
   ]
  },
  {
   "cell_type": "code",
   "execution_count": null,
   "metadata": {},
   "outputs": [],
   "source": [
    "cv_dat.to_csv(\"wrr_hydra_cv_dat.csv\")\n",
    "cv_ag_dat.to_csv(\"wrr_hydra_cv_ag_dat.csv\")\n",
    "cvw_dat.to_csv(\"wrr_hyra_cvw_dat.csv\")"
   ]
  },
  {
   "cell_type": "code",
   "execution_count": null,
   "metadata": {},
   "outputs": [],
   "source": [
    "# Apply crop coefficients to Et0 data (CV only)\n",
    "\n",
    "df3 = pd.read_csv(\"../data/et_kc.csv\")\n",
    "etdf = rs.col_to_dt(df3)\n",
    "\n",
    "# Select the first year of scaling factors and apply this to the first 7 years of data\n",
    "repeat_arr = etdf.et_multiplier[0:12]\n",
    "\n",
    "# Merge with cvdf\n",
    "cvet = pd.merge(cv_dat, etdf,how = \"outer\", left_index = True, right_index = True)"
   ]
  },
  {
   "cell_type": "code",
   "execution_count": null,
   "metadata": {},
   "outputs": [],
   "source": [
    "# Make 7 concats of the yearly dataframe, fill the nans in the cvdf with that\n",
    "temp = pd.DataFrame(repeat_arr)\n",
    "temp = pd.concat([temp]*7, ignore_index=True)\n",
    "\n",
    "cvet.et_multiplier[cvet.et_multiplier.isna()] = temp[temp.columns[0]].values"
   ]
  },
  {
   "cell_type": "code",
   "execution_count": null,
   "metadata": {},
   "outputs": [],
   "source": [
    "# Set the new kc factor column in the cv df \n",
    "cv_dat[\"et_multiplier\"] = cvet.et_multiplier\n",
    "\n",
    "# Subtract the CV ET vals from the cv watershed Et vals to isolate the non-CV AET\n",
    "aet_cols = ['fldas_aet', 'gldas_aet', 'modis_aet', \"tc_aet\"]\n",
    "for i in aet_cols:\n",
    "    cvw_dat[i] = cvw_dat[i] - cv_dat[i]\n",
    "\n",
    "pet_cols = ['nldas_etr', 'gldas_etr', 'modis_pet', \"tc_pet\", \"gmet_eto\", \"gmet_etr\"]\n",
    "for i in pet_cols:\n",
    "    cvw_dat[i] = cvw_dat[i] - cv_dat[i]\n"
   ]
  },
  {
   "cell_type": "code",
   "execution_count": null,
   "metadata": {},
   "outputs": [],
   "source": [
    "# For the irrigated / nonirrigated  ET dicts: \n",
    "\n",
    "# Make a dataframe from everything\n",
    "et_data = [item for sublist in [d_aet_irr.values(), d_pet_irr.values()] for item in sublist]\n",
    "et_data = pd.DataFrame(et_data).T\n",
    "et_data.index = dt_idx\n",
    "col_headers = [item for sublist in [d_aet_irr.keys(), d_pet_irr.keys()] for item in sublist]\n",
    "et_data.columns = col_headers\n"
   ]
  },
  {
   "cell_type": "code",
   "execution_count": null,
   "metadata": {},
   "outputs": [],
   "source": [
    "# multiply PETs by the crop coefficient df\n",
    "et_data[list(d_pet_irr.keys())] = et_data[list(d_pet_irr.keys())].multiply(cvet[\"et_multiplier\"], axis=\"index\")"
   ]
  },
  {
   "cell_type": "code",
   "execution_count": null,
   "metadata": {},
   "outputs": [],
   "source": [
    "# Sum the mean PETS and AETs to get effective et estimates for the CV \n",
    "et_data['aet_mean'] = np.mean([et_data.fldas_aet, et_data.gldas_aet, et_data.modis_aet, et_data.tc_aet], axis = 0)\n",
    "et_data['pet_mean'] = np.mean([et_data.gmet_etr, et_data.gmet_eto, et_data.modis_pet, et_data.tc_pet, et_data.gldas_etr,  et_data.nldas_etr], axis = 0) # et_data.nldas_etr, et_data.gldas_etr, et_data.gmet_eto, \n",
    "et_data['et_eff'] = np.mean([et_data.modis_aet + et_data.modis_pet, et_data.tc_aet + et_data.tc_pet, et_data.gldas_aet + et_data.gldas_etr], axis = 0)#np.sum([et_data.aet_mean, et_data.pet_mean], axis = 0)\n"
   ]
  },
  {
   "cell_type": "code",
   "execution_count": null,
   "metadata": {},
   "outputs": [],
   "source": [
    "# Confirm the dataframe lengths:\n",
    "len(cvw_dat), len(cv_dat), len(cv_ag_dat), len(et_data)"
   ]
  },
  {
   "cell_type": "code",
   "execution_count": null,
   "metadata": {},
   "outputs": [],
   "source": [
    "# Now, merge the CV and CVW reservoir storage data and Qs data. \n",
    "res_cvw = pd.read_csv('../data/reservoir_storage_ssjt.csv')\n",
    "res_cv = pd.read_csv(\"../data/reservoir_storage.csv\")\n",
    "q_in = pd.read_csv(\"../data/Qs_in_monthly.csv\", header = None)\n",
    "q_out = pd.read_csv(\"../data/Qs_out_monthly.csv\", header = None)\n",
    "\n",
    "# Set 0th col to datetime s\n",
    "res_cvw = rs.col_to_dt(res_cvw)\n",
    "res_cv = rs.col_to_dt(res_cv)\n",
    "q_in = rs.col_to_dt(q_in)\n",
    "q_out = rs.col_to_dt(q_out)"
   ]
  },
  {
   "cell_type": "code",
   "execution_count": null,
   "metadata": {},
   "outputs": [],
   "source": [
    "q_out.columns = [\"q_out\"]\n",
    "q_in.columns = [\"q_in\"]"
   ]
  },
  {
   "cell_type": "code",
   "execution_count": null,
   "metadata": {},
   "outputs": [],
   "source": [
    "# Merge relevant dataframes\n",
    "\n",
    "# CV and CVW Res storage\n",
    "cv_dat_t1 = pd.merge(cv_dat,res_cv, how = 'inner', left_index = True, right_index = True)\n",
    "cvw_dat_t1 = pd.merge(cvw_dat,res_cvw, how = 'inner', left_index = True, right_index = True)\n",
    "\n",
    "# CV and CVW outflow\n",
    "cv_dat_t2 = pd.merge(cv_dat_t1,q_out, how = 'inner', left_index = True, right_index = True)\n",
    "cvw_dat_t2 = pd.merge(cvw_dat_t1,q_out, how = 'inner', left_index = True, right_index = True)\n",
    "\n",
    "# CV inflow \n",
    "cv_dat_t3 = pd.merge(cv_dat_t2,q_in, how = 'inner', left_index = True, right_index = True)\n"
   ]
  },
  {
   "cell_type": "code",
   "execution_count": null,
   "metadata": {},
   "outputs": [],
   "source": [
    "# Calculate ET for the CV watershed as CV PET + CVW AET watershed \n",
    "cvwdf = cvw_dat_t2.copy()\n",
    "cv_df = cv_dat_t2.copy()\n",
    "\n",
    "# # AET\n",
    "# for i in list(d_aet_irr.keys()):\n",
    "#     cvwdf[i] = cvwdf[i] + cv_df[i]\n",
    "\n",
    "# # PET \n",
    "# for i in list(d_pet_irr.keys()):\n",
    "#     cvwdf[i] = cvwdf[i] + cv_df[i]\n"
   ]
  },
  {
   "cell_type": "code",
   "execution_count": null,
   "metadata": {},
   "outputs": [],
   "source": [
    "# Replace the columns in the CV df with the irrigated / nonirrigated values \n",
    "cv_dat_t3.update(et_data)\n",
    "df = cv_dat_t3.copy()"
   ]
  },
  {
   "cell_type": "code",
   "execution_count": null,
   "metadata": {},
   "outputs": [],
   "source": [
    "# Plot all the data for CVW\n",
    "\n",
    "plt.figure(figsize=(25, 15))\n",
    "\n",
    "G = gridspec.GridSpec(4, 3)\n",
    "\n",
    "# Plot the basemaps\n",
    "axes_1 = plt.subplot(G[:, 0])\n",
    "cvw.plot(ax=axes_1, color = \"red\", alpha = 0.7)\n",
    "axes_1.set_xlabel(\"longitude\", size = 20)\n",
    "axes_1.set_ylabel(\"latitude\", size = 20)\n",
    "axes_1.annotate(\"A\", xy=(0.92, 0.92), xycoords=\"axes fraction\", size = 20)\n",
    "axes_1.tick_params(axis='both', which='major', labelsize=15)\n",
    "\n",
    "# Precip\n",
    "axes_2 = plt.subplot(G[0:1, 1:])\n",
    "axes_2.set_title(\"Water Balance Datasets\", size = 20, y=1.2)\n",
    "axes_2.plot(cvwdf.index, cvwdf.p_prism, label = \"prism\")\n",
    "axes_2.plot(cvwdf.index, cvwdf.p_trmm, label = \"trmm\")\n",
    "axes_2.plot(cvwdf.index, cvwdf.p_chirps, label = \"chirps\")\n",
    "axes_2.plot(cvwdf.index, cvwdf.p_persiann, label = \"persiann\")\n",
    "axes_2.plot(cvwdf.index, cvwdf.p_daymet, label = \"daymet\")\n",
    "axes_2.legend(loc='upper center', bbox_to_anchor=(0.5, 1.1), fancybox=True, shadow=True, ncol=7, prop = {\"size\":12})\n",
    "axes_2.set_ylabel(\"P ($km^3$)\", size = 20)\n",
    "# axes_2.set_xticklabels([])\n",
    "axes_2.annotate(\"B\", xy=(0.01, 0.85), xycoords=\"axes fraction\", size = 20)\n",
    "axes_2.tick_params(axis='both', which='major', labelsize=15)\n",
    "axes_2.grid(True)\n",
    "\n",
    "# AET\n",
    "axes_3 = plt.subplot(G[1:2, 1:])\n",
    "axes_3.plot(cvwdf.index, cvwdf.modis_aet, label = \"modis AET\")\n",
    "axes_3.plot(cvwdf.index, cvwdf.fldas_aet, label = \"fldas AET\")\n",
    "axes_3.plot(cvwdf.index, cvwdf.tc_aet, label = \"terraclimate AET\")\n",
    "axes_3.plot(cvwdf.index, cvwdf.gldas_aet, label = \"gldas AET\")\n",
    "\n",
    "# PET\n",
    "axes_3.plot(cvwdf.index, cvwdf.modis_pet, label = \"modis PET\")\n",
    "axes_3.plot(cvwdf.index, cvwdf.gmet_eto, label = \"gridmet $ET_0$ (grass)\")\n",
    "axes_3.plot(cvwdf.index, cvwdf.gmet_etr, label = \"gridmet $ET_0$ (alfalfa)\")\n",
    "axes_3.plot(cvwdf.index, cvwdf.tc_pet, label = \"terraclimate PET\")\n",
    "axes_3.plot(cvwdf.index, cvwdf.gldas_etr, label = \"gldas PET\")\n",
    "axes_3.plot(cvwdf.index, cvwdf.nldas_etr, label = \"nldas $ET_0$\")\n",
    "\n",
    "axes_3.set_ylabel(\"ET ($km^3$)\", size = 20)\n",
    "axes_3.legend(loc='upper center', bbox_to_anchor=(0.5, 1.15), fancybox=True, shadow=True, ncol=5, prop = {\"size\":12})\n",
    "axes_3.annotate(\"C\", xy=(0.01, 0.85), xycoords=\"axes fraction\", size = 20)\n",
    "axes_3.tick_params(axis='both', which='major', labelsize=15)\n",
    "axes_3.grid(True)\n",
    "\n",
    "# SM / SWE / Surface Storage\n",
    "axes_4 = plt.subplot(G[2:3, 1:])\n",
    "axes_4.plot(cvwdf.index, cvwdf.tc_sm, label = \"Terraclimate Soil Moisture\")\n",
    "axes_4.plot(cvwdf.index, cvwdf.gldas_sm, label = \"GLDAS Soil Moisture1\")\n",
    "axes_4.plot(cvwdf.index, cvwdf.gldas_m, label = \"GLDAS Soil Moisture2\")\n",
    "axes_4.plot(cvwdf.index, cvwdf.fldas_swe, label = \"fldas SWE\")\n",
    "axes_4.plot(cvwdf.index, cvwdf.gldas_swe, label = \"gldas SWE\")\n",
    "axes_4.plot(cvwdf.index, cvwdf.storage_km3, label = \"CDEC Reservoir Storage\")\n",
    "axes_4.legend(loc='upper center', bbox_to_anchor=(0.5, 1.15), fancybox=True, shadow=True, ncol=7, prop = {\"size\":12})\n",
    "axes_4.set_ylabel(\"S ($km^3$)\", size = 20)\n",
    "axes_4.annotate(\"D\", xy=(0.01, 0.85), xycoords=\"axes fraction\", size = 20)\n",
    "axes_4.tick_params(axis='both', which='major', labelsize=15)\n",
    "axes_4.grid(True)\n",
    "\n",
    "axes_5 = plt.subplot(G[3:4, 1:])\n",
    "axes_5.plot(cvwdf.index, cvwdf.q_out, label = \"Q_out (SF Bay + CA Aqueduct)\")\n",
    "axes_5.plot(cvwdf.index, cvwdf.gldas, label = \"GLDAS R\")\n",
    "axes_5.plot(cvwdf.index, cvwdf.tc_r, label = \"TC R\")\n",
    "axes_5.plot(cvwdf.index, cvwdf.fldas_r, label = \"FLDAS R\")\n",
    "axes_5.set_ylabel(\"Q/D/R ($km^3$)\", size = 20)\n",
    "axes_5.legend(loc='upper center', bbox_to_anchor=(0.5, 1.15), fancybox=True, shadow=True, ncol=7, prop = {\"size\":12})\n",
    "axes_5.annotate(\"E\", xy=(0.01, 0.85), xycoords=\"axes fraction\", size = 20)\n",
    "axes_5.tick_params(axis='both', which='major', labelsize=15)\n",
    "axes_5.grid(True)\n",
    "\n",
    "plt.tight_layout()"
   ]
  },
  {
   "cell_type": "code",
   "execution_count": null,
   "metadata": {},
   "outputs": [],
   "source": [
    "# Plot all the data for CV\n",
    "cv_df = df.copy()\n",
    "\n",
    "plt.figure(figsize=(25, 15))\n",
    "\n",
    "G = gridspec.GridSpec(4, 3)\n",
    "\n",
    "# Plot the basemaps\n",
    "axes_1 = plt.subplot(G[:, 0])\n",
    "cvsa.plot(ax=axes_1, color = \"red\", alpha = 0.7)\n",
    "# axes_1.set_title('''\n",
    "#     CV Watershed area = {} $km^2$ \n",
    "# '''.format(round(sa_km3, 3)), size = 20)\n",
    "axes_1.set_xlabel(\"longitude\", size = 20)\n",
    "axes_1.set_ylabel(\"latitude\", size = 20)\n",
    "axes_1.annotate(\"A\", xy=(0.92, 0.92), xycoords=\"axes fraction\", size = 20)\n",
    "axes_1.tick_params(axis='both', which='major', labelsize=15)\n",
    "\n",
    "axes_2 = plt.subplot(G[0:1, 1:])\n",
    "axes_2.set_title(\"Water Balance Datasets\", size = 20, y=1.2)\n",
    "axes_2.plot(cv_df.index, cv_df.p_prism, label = \"prism\")\n",
    "axes_2.plot(cv_df.index, cv_df.p_trmm, label = \"trmm\")\n",
    "axes_2.plot(cv_df.index, cv_df.p_chirps, label = \"chirps\")\n",
    "axes_2.plot(cv_df.index, cv_df.p_persiann, label = \"persiann\")\n",
    "axes_2.plot(cv_df.index, cv_df.p_daymet, label = \"daymet\")\n",
    "axes_2.legend(loc='upper center', bbox_to_anchor=(0.5, 1.1), fancybox=True, shadow=True, ncol=7, prop = {\"size\":12})\n",
    "axes_2.set_ylabel(\"P ($km^3$)\", size = 20)\n",
    "# axes_2.set_xticklabels([])\n",
    "axes_2.annotate(\"B\", xy=(0.01, 0.85), xycoords=\"axes fraction\", size = 20)\n",
    "axes_2.tick_params(axis='both', which='major', labelsize=15)\n",
    "axes_2.grid(True)\n",
    "\n",
    "axes_3 = plt.subplot(G[1:2, 1:])\n",
    "axes_3.plot(cv_df.index, cv_df.modis_aet, label = \"modis AET\")\n",
    "axes_3.plot(cv_df.index, cv_df.fldas_aet, label = \"fldas AET\")\n",
    "axes_3.plot(cv_df.index, cv_df.tc_aet, label = \"terraclimate AET\")\n",
    "axes_3.plot(cv_df.index, cv_df.gldas_aet, label = \"gldas AET\")\n",
    "\n",
    "axes_3.plot(cv_df.index, cv_df.modis_pet, label = \"modis PET\")\n",
    "axes_3.plot(cv_df.index, cv_df.gmet_eto, label = \"gridmet $ET_0$ (grass)\")\n",
    "axes_3.plot(cv_df.index, cv_df.gmet_etr, label = \"gridmet $ET_0$ (alfalfa)\")\n",
    "axes_3.plot(cv_df.index, cv_df.tc_pet, label = \"terraclimate PET\")\n",
    "axes_3.plot(cv_df.index, cv_df.gldas_etr, label = \"gldas PET\")\n",
    "axes_3.plot(cv_df.index, cv_df.nldas_etr, label = \"nldas $ET_0$\")\n",
    "\n",
    "axes_3.set_ylabel(\"ET ($km^3$)\", size = 20)\n",
    "axes_3.legend(loc='upper center', bbox_to_anchor=(0.5, 1.15), fancybox=True, shadow=True, ncol=5, prop = {\"size\":12})\n",
    "axes_3.annotate(\"C\", xy=(0.01, 0.85), xycoords=\"axes fraction\", size = 20)\n",
    "axes_3.tick_params(axis='both', which='major', labelsize=15)\n",
    "axes_3.grid(True)\n",
    "\n",
    "axes_4 = plt.subplot(G[2:3, 1:])\n",
    "axes_4.plot(cv_df.index, cv_df.tc_sm, label = \"Terraclimate Soil Moisture\")\n",
    "axes_4.plot(cv_df.index, cv_df.gldas_sm, label = \"GLDAS Soil Moisture1\")\n",
    "axes_4.plot(cv_df.index, cv_df.gldas_m, label = \"GLDAS Soil Moisture2\")\n",
    "# axes_4.plot(cv_df.index, cv_df.fldas_swe, label = \"fldas SWE\")\n",
    "# axes_4.plot(cv_df.index, cv_df.gldas_swe, label = \"gldas SWE\")\n",
    "axes_4.plot(cv_df.index, cv_df.storage_km3, label = \"CDEC Reservoir Storage\")\n",
    "axes_4.legend(loc='upper center', bbox_to_anchor=(0.5, 1.15), fancybox=True, shadow=True, ncol=7, prop = {\"size\":12})\n",
    "axes_4.set_ylabel(\"S ($km^3$)\", size = 20)\n",
    "axes_4.annotate(\"D\", xy=(0.01, 0.85), xycoords=\"axes fraction\", size = 20)\n",
    "axes_4.tick_params(axis='both', which='major', labelsize=15)\n",
    "axes_4.grid(True)\n",
    "\n",
    "axes_5 = plt.subplot(G[3:4, 1:])\n",
    "axes_5.plot(cv_df.index, cv_df.q_in, label = \"Q in (USGS stream gauges)\")\n",
    "axes_5.plot(cv_df.index, cv_df.q_out, label = \"Q out (SF Bay + CA Aqueduct)\")\n",
    "axes_5.plot(cv_df.index, cv_df.gldas, label = \"GLDAS R\")\n",
    "axes_5.plot(cv_df.index, cv_df.tc_r, label = \"TC R\")\n",
    "axes_5.plot(cv_df.index, cv_df.fldas_r, label = \"FLDAS R\")\n",
    "axes_5.set_ylabel(\"Q/D/R ($km^3$)\", size = 20)\n",
    "axes_5.legend(loc='upper center', bbox_to_anchor=(0.5, 1.15), fancybox=True, shadow=True, ncol=7, prop = {\"size\":12})\n",
    "axes_5.annotate(\"E\", xy=(0.01, 0.85), xycoords=\"axes fraction\", size = 20)\n",
    "axes_5.tick_params(axis='both', which='major', labelsize=15)\n",
    "axes_5.grid(True)\n",
    "\n",
    "plt.tight_layout()"
   ]
  },
  {
   "cell_type": "code",
   "execution_count": null,
   "metadata": {},
   "outputs": [],
   "source": [
    "# calculate means for the CV (df)\n",
    "df[\"aet_mean\"] = np.mean([df['fldas_aet'], df['gldas_aet'],df['modis_aet'],df['tc_aet']],axis = 0)\n",
    "df[\"pet_mean\"] = np.mean([df['modis_pet'],df['tc_pet'],df['gmet_eto'],df['gmet_etr']],axis = 0) # We drop GLDAS and NLDAS as they are biased high for the CV \n",
    "df[\"p_mean\"] = np.mean([df['p_prism'], df['p_chirps'],df['p_persiann'],df['p_trmm'],df['p_daymet']],axis = 0)\n",
    "df['sm_mean'] = np.mean([df['gldas_sm'], df['tc_sm'], df[\"gldas_m\"]],axis = 0)\n",
    "df['r_mean'] = np.mean([df['gldas'], df['fldas_r'], df[\"tc_r\"], df['q_in']],axis = 0)\n",
    "# Compute the effective runoff as mean(cvw_runoff) - mean(cv_runoff)\n",
    "df['r_eff'] = np.mean([cvwdf['gldas'], cvwdf['fldas_r'], cvwdf[\"tc_r\"]],axis = 0) - np.mean([df['gldas'], df['fldas_r'], df[\"tc_r\"], df['q_in']],axis = 0)\n",
    "df['et_eff'] = np.mean([df.modis_aet + df.modis_pet, df.tc_aet + df.tc_pet, df.gldas_aet + df.gldas_etr], axis = 0)#np.sum([et_data.aet_mean, et_data.pet_mean], axis = 0)\n",
    "df['et_eff'] = np.sum([df.aet_mean, df.pet_mean], axis = 0)#np.sum([et_data.aet_mean, et_data.pet_mean], axis = 0)\n",
    "\n",
    "# Calc means for the CV Watershed (cvwdf)\n",
    "cvwdf[\"aet_mean\"] = np.mean([cvwdf['fldas_aet'], cvwdf['gldas_aet'],cvwdf['modis_aet'],cvwdf['tc_aet']],axis = 0)\n",
    "cvwdf[\"p_mean\"] = np.mean([cvwdf['p_prism'], cvwdf['p_chirps'],cvwdf['p_persiann'],cvwdf['p_trmm'],cvwdf['p_daymet']],axis = 0)\n",
    "cvwdf['sm_mean'] = np.mean([cvwdf['gldas_sm'], cvwdf['tc_sm'], cvwdf[\"gldas_m\"]],axis = 0)\n",
    "cvwdf['swe_mean'] =  np.mean([cvwdf['fldas_swe'],cvwdf['gldas_swe']], axis = 0)\n",
    "cvwdf[\"cv_pet_mean\"] = np.mean([df['modis_pet'], df['tc_pet'], df['gmet_eto'], df['gmet_etr'], df['gldas_etr'], df['nldas_etr']],axis = 0)\n",
    "\n",
    "cvwdf['et_eff'] = np.sum([df['pet_mean'],df['aet_mean'], cvwdf['aet_mean']],axis = 0)\n"
   ]
  },
  {
   "cell_type": "code",
   "execution_count": null,
   "metadata": {},
   "outputs": [],
   "source": [
    "# Check the ET specifically for CV \n",
    "\n",
    "plt.figure(figsize = (12,4))\n",
    "plt.title(\"AET data\")\n",
    "plt.plot(df.fldas_aet, label = \"fldas\")\n",
    "plt.plot(df.gldas_aet, label = 'gldas')\n",
    "plt.plot(df.modis_aet, label = 'modis')\n",
    "plt.plot(df.tc_aet, label = \"terraclimate\")\n",
    "plt.ylabel(\"ET ($km^3$)\")\n",
    "plt.legend()\n",
    "\n",
    "plt.figure(figsize = (12,4))\n",
    "plt.title(\"PET data\")\n",
    "plt.plot(df.nldas_etr, label = \"nldas\")\n",
    "plt.plot(df.gldas_etr, label = 'gldas')\n",
    "plt.plot(df.modis_pet, label = 'modis')\n",
    "plt.plot(df.tc_pet, label = \"terraclimate\")\n",
    "plt.plot(df.gmet_eto, label = \"gmet1\")\n",
    "plt.plot(df.gmet_etr, label = \"gmet2\")\n",
    "# plt.plot(df.et_mean, label = \"MEAN\")\n",
    "\n",
    "plt.plot(df.pet_mean)\n",
    "plt.ylabel(\"ET ($km^3$)\")\n",
    "plt.legend()\n",
    "\n",
    "plt.figure(figsize = (12,4))\n",
    "plt.title(\"et eff data\")\n",
    "plt.plot(df.et_eff, label = \"effective et\")"
   ]
  },
  {
   "cell_type": "code",
   "execution_count": null,
   "metadata": {},
   "outputs": [],
   "source": [
    "# TODO: include the code to Process the GRACE data \n",
    "\n",
    "# Grace data\n",
    "\n",
    "grace = pd.read_csv(\"../data/grace_argus.csv\")\n",
    "\n",
    "# Initialize the datetime columns\n",
    "grace['dt'] = pd.to_datetime(grace[grace.columns[0]])\n",
    "grace = grace.set_index(pd.to_datetime(grace[grace.columns[0]]))\n",
    "grace.drop([\"dt\"],axis = 1, inplace = True)\n",
    "\n",
    "# Subtract reservoir storage, soil moisture, SWE from grace \n",
    "grace['adj'] = grace.grace_mean[1:] - cvwdf.sm_mean.diff()[1:] - cvwdf.storage_km3.diff()[1:] - cvwdf.swe_mean.diff()[1:]\n",
    "\n",
    "# Wells data (processed by zihan using Faunt 2009 SY values )\n",
    "wells = pd.read_csv(\"../data/wells_ds_faunt_sy.csv\")\n",
    "wells.month = wells.month.astype(str)\n",
    "wells.year = wells.year.astype(str)\n",
    "wells.month = wells.month.str.zfill(2)\n",
    "\n",
    "wells['Date'] = pd.to_datetime(wells.year + wells.month , format=\"%Y%m\") + MonthEnd(1)\n",
    "wells.index = wells.Date\n",
    "wells.drop(['Date'], axis =1, inplace = True)\n",
    "\n",
    "wells['ds_km3'] = wells[wells.columns[-1]] * 55000 * 1e-5\n",
    "\n",
    "# c2vsim storage data \n",
    "c2vs = pd.read_csv(\"../data/all_data_cv.csv\")\n",
    "c2vs.ds = c2vs.s.diff()\n",
    "df['c2vsim'] = c2vs.s.diff().values[-len(df):]"
   ]
  },
  {
   "cell_type": "code",
   "execution_count": null,
   "metadata": {},
   "outputs": [],
   "source": [
    "# Do the balances"
   ]
  },
  {
   "cell_type": "code",
   "execution_count": null,
   "metadata": {},
   "outputs": [],
   "source": [
    "# Equations 1 and 2 in paper\n",
    "df[\"cv_ds\"] = df.p_mean - (df.et_eff) - df.q_out + df.q_in + df.r_mean - df.sm_mean.diff() - df.storage_km3.diff() \n",
    "cvwdf[\"cvw_ds\"] = cvwdf.p_mean - (cvwdf.et_eff ) - cvwdf.q_out  - cvwdf.sm_mean.diff() - cvwdf.storage_km3.diff() - cvwdf.swe_mean.diff()\n",
    "\n",
    "plt.plot(np.cumsum(df.cv_ds))\n",
    "plt.plot(np.cumsum(cvwdf.cvw_ds))\n",
    "plt.plot(np.cumsum(df.c2vsim))\n",
    "plt.plot(wells.ds_km3)\n",
    "plt.plot(grace.grace_mean)\n",
    "plt.legend()\n",
    "\n",
    "plt.show()"
   ]
  },
  {
   "cell_type": "code",
   "execution_count": null,
   "metadata": {},
   "outputs": [],
   "source": [
    "plt.figure(figsize=(16, 8))\n",
    "\n",
    "G = gridspec.GridSpec(2, 3)\n",
    "\n",
    "# Plot the basemaps\n",
    "ax = plt.subplot(G[:, 0])\n",
    "\n",
    "# Plot the huc4s\n",
    "s.plot(ax = ax, color = 'blue', alpha = 0.1, edgecolor = \"black\")\n",
    "sj.plot(ax = ax, color = 'blue', alpha = 0.1, edgecolor = \"black\")\n",
    "t.plot(ax = ax, color = 'blue', alpha = 0.1,  edgecolor = \"black\")\n",
    "\n",
    "# Rivers, CV, canals, CA, irrigated, non irrigated\n",
    "# rivers.plot(ax = ax, color = \"blue\", label = \"major rivers\")\n",
    "cvsa.plot(ax = ax, color = \"green\", edgecolor = \"black\", alpha = 0.5, label = \"central valley\")\n",
    "# canals.plot(ax = ax, color = \"red\", edgecolor = \"none\", alpha = 0.5, label = \"CVP canals / aqueducts\")\n",
    "casgem.plot(ax = ax, marker = \".\", markersize = 0.1, color = 'gray')\n",
    "# irrigated.plot(ax = ax, color = \"green\", alpha = 0.7, label = \"irrigated\")\n",
    "# non_irrigated.plot(ax = ax, color = \"yellow\", alpha = 0.7, label = 'non-irrigated')\n",
    "grace_sa.plot(ax = ax, color = \"lightcoral\", alpha = 0.1, edgecolor = 'black')\n",
    "\n",
    "plt.ylabel('latitude', size = 15)\n",
    "plt.xlabel('longitude', size = 15)\n",
    "\n",
    "# Plot the timeseries\n",
    "axes_4 = plt.subplot(G[0:2, 1:])\n",
    "axes_4.plot(df.index, np.cumsum(df.cv_ds), color=\"black\", linewidth = 2, label = \"CV $\\Delta S_{gw}$\")\n",
    "axes_4.plot(df.index, np.cumsum(cvwdf.cvw_ds), color=\"blue\",alpha = 0.5, label = \"CV Wshed $\\Delta S_{gw}$\")\n",
    "axes_4.plot(df.index, np.cumsum(df.c2vsim), color=\"green\", label = \"C2VSIM\")\n",
    "# axes_4.plot(df2.index, np.cumsum(df2.ds), color=\"red\", label = \"CVW $\\Delta S_{gw}$ \")\n",
    "axes_4.plot(wells.index, wells.ds_km3, color=\"gray\", label = \"Wells ($S_y$ Faunt (2009))\")\n",
    "axes_4.plot(grace.index, grace.adj, color=\"lightcoral\", linewidth = 3, alpha = .5, label = \"GRACE\")\n",
    "\n",
    "axes_4.set_ylim(-130,75)\n",
    "axes_4.set_xlim(df.index[0],df.index[-1])\n",
    "\n",
    "axes_4.set_ylabel('$\\Delta$ $S_{gw}$ ($km^3$)', size = 25) \n",
    "axes_4.legend(loc = \"lower left\",  prop={'size':18})\n",
    "\n",
    "plt.grid(True)\n",
    "G.update(wspace=0.4, hspace=0.3) # set the spacing between axes. \n",
    "\n",
    "# plt.tight_layout()\n",
    "plt.show()"
   ]
  },
  {
   "cell_type": "code",
   "execution_count": null,
   "metadata": {},
   "outputs": [],
   "source": [
    "df.to_csv(\"../data/WRR_cv_balance_fin.csv\")\n",
    "cvwdf.to_csv(\"../data/WRR_cvw_balance_fin.csv\")"
   ]
  },
  {
   "cell_type": "code",
   "execution_count": null,
   "metadata": {},
   "outputs": [],
   "source": [
    "# Do triple collocation on grace, wells, rs model\n",
    "\n",
    "def calc_tc_error(x,y,z):\n",
    "    e_x = np.sqrt(np.abs(np.mean((x - y) * (x - z))))\n",
    "    e_y = np.sqrt(np.abs(np.mean((y - x) * (y - z))))\n",
    "    e_z = np.sqrt(np.abs(np.mean((z - x) * (z - y))))\n",
    "\n",
    "    return e_x, e_y, e_z\n",
    "\n",
    "def scale_to_ref(src, ref):\n",
    "    return ((src - np.mean(src)) /\n",
    "            np.std(src)) * np.std(ref) + np.mean(ref)"
   ]
  },
  {
   "cell_type": "code",
   "execution_count": null,
   "metadata": {},
   "outputs": [],
   "source": [
    "from itertools import combinations\n",
    "\n",
    "tc_dat = [np.cumsum(df.cv_ds),  np.cumsum(df.c2vsim),wells.ds_km3, grace.adj]\n",
    "\n",
    "combos=combinations([0,1,2,3], 3) \n",
    "\n",
    "out = {0:[], # rs\n",
    "       1:[], # wells\n",
    "       2:[], # c2vsim\n",
    "       3:[]  # grace \n",
    "        }\n",
    "\n",
    "# out = {}\n",
    "\n",
    "for idx,i in enumerate(combos):\n",
    "    x = tc_dat[i[0]]\n",
    "    y = tc_dat[i[1]]\n",
    "    z = tc_dat[i[2]]\n",
    "    \n",
    "    y_scaled = scale_to_ref(y,x)\n",
    "    z_scaled = scale_to_ref(z,x)\n",
    "\n",
    "    e_x, e_y, e_z = calc_tc_error(x, y_scaled, z_scaled)\n",
    "    \n",
    "    errors = calc_tc_error(x, y_scaled, z_scaled)\n",
    "    \n",
    "    for idx,j in enumerate(i):\n",
    "        out[j].append(errors[idx])\n",
    "        \n",
    "D = {k:np.array(v).mean() for k,v in out.items() }\n",
    "maxs = {k:np.array(v).max() for k,v in out.items() }\n",
    "mins = {k:np.array(v).min() for k,v in out.items() }\n",
    "stds = {k:np.array(v).std() for k,v in out.items() }"
   ]
  },
  {
   "cell_type": "code",
   "execution_count": null,
   "metadata": {},
   "outputs": [],
   "source": [
    "# Merge all the DFS and create a mean error \n",
    "\n",
    "merged1 = pd.merge(df, wells, left_index=True, right_index=True, how = \"outer\")\n",
    "merged2 = pd.merge(merged1, grace, left_index=True, right_index=True, how = \"outer\")\n",
    "\n",
    "for idx,x in enumerate([\"cv_ds\",'ds_km3', \"c2vsim\",'adj']):\n",
    "    merged2[x+\"_max\"] = merged2[x] + D[idx]\n",
    "    merged2[x+\"_min\"] = merged2[x] - D[idx]\n",
    "    \n",
    "merged2['cs'] = np.cumsum(df.cv_ds)\n",
    "merged2['ds_mean'] = np.nanmean(merged2[[\"cs\",'ds_km3', \"c2vsim\",'adj']], axis = 1)\n",
    "merged2['upper_bound'] = np.nanmean(merged2[[\"cs\",'ds_km3_max', \"c2vsim_max\",'adj_max']], axis = 1)\n",
    "merged2['lower_bound'] = np.nanmean(merged2[[\"cs\",'ds_km3_min', \"c2vsim_min\",'adj_min']], axis = 1)"
   ]
  },
  {
   "cell_type": "code",
   "execution_count": null,
   "metadata": {},
   "outputs": [],
   "source": [
    "# Plot the TC bar chart and time series\n",
    "plt.figure(figsize = (15,6))\n",
    "\n",
    "G = gridspec.GridSpec(4, 3)\n",
    "\n",
    "# Plot the basemaps\n",
    "ax = plt.subplot(G[:, 0])\n",
    "\n",
    "bars = plt.bar(range(len(D)), list(D.values()),yerr=list(stds.values()), ecolor='black', capsize=10, alpha =0.6, align='center')\n",
    "bars[0].set_color('black')\n",
    "bars[1].set_color('green')\n",
    "bars[2].set_color('gray')\n",
    "bars[-1].set_color('lightcoral')\n",
    "plt.xticks(range(len(D)), [\"HyDRA CV\",  \"C2VSIM\",\"Wells\",  \"GRACE\"], rotation='vertical')\n",
    "plt.ylabel(\"mean Triple Collocation Error ($km^3$ / month)\", size = 15)\n",
    "plt.xlabel(\"Method or dataset\", size = 15)\n",
    "\n",
    "ax.annotate(\"A\", xy=(0.01, 0.95), xycoords=\"axes fraction\", size = 20)\n",
    "\n",
    "\n",
    "# ax2 = plt.subplot(G[:, 0])\n",
    "axes_2 = plt.subplot(G[0:2, 1:])\n",
    "axes_2.plot(df.index, np.cumsum(df.cv_ds), color=\"black\", linewidth = 2, label = \"CV $\\Delta S_{gw}$\")\n",
    "axes_2.fill_between(df.index, np.cumsum(df.cv_ds)+D[0], np.cumsum(df.cv_ds)-D[0], color=\"black\", alpha = 0.3)\n",
    "# axes_2.fill_between(df.index, np.cumsum(df.cv_ds)+maxs[0], np.cumsum(df.cv_ds)-maxs[0], color=\"black\", alpha = 0.1)\n",
    "\n",
    "axes_2.plot(wells.index,wells.ds_km3, color=\"gray\", label = \"wells\")\n",
    "axes_2.fill_between(wells.index, wells.ds_km3+D[1],wells.ds_km3-D[1], color=\"gray\", alpha = 0.3)\n",
    "# axes_2.fill_between(wells.index, wells.ds_km3+maxs[1],wells.ds_km3-maxs[1], color=\"gray\", alpha = 0.1)\n",
    "\n",
    "axes_2.plot(df.index, np.cumsum(df.c2vsim), color=\"green\", label = \"C2VSIM\")\n",
    "axes_2.fill_between(df.index, np.cumsum(df.c2vsim)+D[2], np.cumsum(df.c2vsim)-D[2], color=\"green\", alpha = 0.3)\n",
    "# axes_2.fill_between(df.index, np.cumsum(df.c2vsim)+maxs[2], np.cumsum(df.c2vsim)-maxs[2], color=\"green\", alpha = 0.1)\n",
    "\n",
    "axes_2.plot(grace.index, grace.adj, color=\"lightcoral\", label = \"GRACE\")\n",
    "axes_2.fill_between(grace.index, grace.adj+D[3],  grace.adj-D[3], color=\"lightcoral\", alpha = 0.3)\n",
    "# axes_2.fill_between(grace.index, grace.adj+maxs[3],  grace.adj-maxs[3], color=\"lightcoral\", alpha = 0.1)\n",
    "\n",
    "axes_2.set_ylim([-100,100])\n",
    "axes_2.set_xlim(df.index[0],df.index[-1])\n",
    "axes_2.set_ylabel(\"$\\Delta S (km^3)$\")\n",
    "axes_2.legend(loc='upper center', bbox_to_anchor=(0.5, -0.09), fancybox=True, shadow=True, ncol=7, prop = {\"size\":12})\n",
    "\n",
    "axes_2.annotate(\"B\", xy=(0.01, 0.85), xycoords=\"axes fraction\", size = 20)\n",
    "\n",
    "axes_3 = plt.subplot(G[2:4, 1:])\n",
    "\n",
    "axes_3.plot(merged2.ds_mean[16:-10], color = \"black\", label = 'ensemble mean')\n",
    "axes_3.fill_between(merged2.index[16:-10], merged2.upper_bound[16:-10], merged2.lower_bound[16:-10] ,color = \"gray\", alpha = 0.3, label = \"mean uncertainty\")\n",
    "axes_3.set_xlim(df.index[0],df.index[-1])\n",
    "axes_3.set_ylabel(\"$\\Delta S (km^3)$\")\n",
    "axes_3.legend(loc='upper center', bbox_to_anchor=(0.5, -0.09), fancybox=True, shadow=True, ncol=7, prop = {\"size\":12})\n",
    "axes_3.annotate(\"C\", xy=(0.01, 0.85), xycoords=\"axes fraction\", size = 20)\n",
    "\n",
    "plt.tight_layout()\n",
    "plt.show()"
   ]
  },
  {
   "cell_type": "code",
   "execution_count": null,
   "metadata": {
    "collapsed": true,
    "jupyter": {
     "outputs_hidden": true
    }
   },
   "outputs": [],
   "source": [
    "# Fit Trendlines in droughts "
   ]
  },
  {
   "cell_type": "code",
   "execution_count": null,
   "metadata": {
    "collapsed": true,
    "jupyter": {
     "outputs_hidden": true
    }
   },
   "outputs": [],
   "source": [
    "df = pd.merge(df,wells, how = \"outer\", left_index = True, right_index = True)\n",
    "df = pd.merge(df,grace, how = \"outer\", left_index = True, right_index = True)\n",
    "df.ds_km3 = df.ds_km3.interpolate(method='polynomial', order=2)"
   ]
  },
  {
   "cell_type": "code",
   "execution_count": null,
   "metadata": {
    "collapsed": true,
    "jupyter": {
     "outputs_hidden": true
    }
   },
   "outputs": [],
   "source": [
    "# Droughts\n",
    "idx0709 = range(69,105)\n",
    "idx1216 = range(129,129+48)\n",
    "# Wet winters\n",
    "idx1617 =range(189,201)\n",
    "idx0506 = range(57,69)"
   ]
  },
  {
   "cell_type": "code",
   "execution_count": null,
   "metadata": {},
   "outputs": [],
   "source": [
    "def fit_trend(df_column, index):\n",
    "    z = np.polyfit(x=df_column.iloc[index], y=np.arange(0,len(index)), deg=1)\n",
    "    p = np.poly1d(z)\n",
    "    ds_trend = p(df_column.iloc[index])\n",
    "    x = np.arange(len(index))\n",
    "    fit = np.polyfit(x, df_column.iloc[index], 1)\n",
    "    fit_fn = np.poly1d(fit)\n",
    "    annual_slope = (fit_fn(x)[-1] - fit_fn(x)[0]) / 2\n",
    "    \n",
    "    return fit_fn, x, annual_slope"
   ]
  },
  {
   "cell_type": "code",
   "execution_count": null,
   "metadata": {},
   "outputs": [],
   "source": [
    "fns1 = []\n",
    "xs1 = []\n",
    "slopes1 = []\n",
    "\n",
    "for i in [np.cumsum(df.cv_ds), np.cumsum(df.c2vsim), df.ds_km3, df.adj, np.cumsum(cvwdf.cvw_ds)]:\n",
    "    fn,x,sl = fit_trend(i, idx0709)\n",
    "    fns1.append(fn)\n",
    "    xs1.append(x)\n",
    "    slopes1.append(round(sl,2))\n",
    "    "
   ]
  },
  {
   "cell_type": "code",
   "execution_count": null,
   "metadata": {},
   "outputs": [],
   "source": [
    "fns2 = []\n",
    "xs2 = []\n",
    "slopes2 = []\n",
    "\n",
    "for i in [np.cumsum(df.cv_ds), np.cumsum(df.c2vsim), df.ds_km3, df.adj, np.cumsum(cvwdf.cvw_ds)]:\n",
    "    fn,x,sl = fit_trend(i, idx1216)\n",
    "    fns2.append(fn)\n",
    "    xs2.append(x)\n",
    "    slopes2.append(round(sl,2))\n",
    "    "
   ]
  },
  {
   "cell_type": "code",
   "execution_count": null,
   "metadata": {},
   "outputs": [],
   "source": [
    "plt.figure(figsize = (20,8))\n",
    "plt.title(\"Trends in Storage Changes ($km^3/year$) During Droughts\", size = 20)\n",
    "\n",
    "# RS method CV\n",
    "plt.plot(df.index[idx0709], fns1[0](xs1[0]), color = 'black', label = \"HyDRA CV trendlines\")\n",
    "plt.plot(df.index[idx1216], fns2[0](xs2[0]), color = \"black\")\n",
    "plt.plot(df.index, np.cumsum(df.cv_ds), \"o\",color = 'black', ms = 2, alpha = 0.5, label = \"HyDRA CV datapoints\")\n",
    "plt.fill_between(df.index, np.cumsum(df.cv_ds)+D[2], np.cumsum(df.cv_ds)-D[2], color=\"black\", alpha = 0.1)\n",
    "\n",
    "# CVW\n",
    "plt.plot(df.index[idx0709], fns1[-1](xs1[-1]), color = 'blue', label = \"HyDRA CVW trendlines\")\n",
    "plt.plot(df.index[idx1216], fns2[-1](xs2[-1]), color = \"blue\")\n",
    "plt.plot(df.index, np.cumsum(cvwdf.cvw_ds), \"o\",color = 'blue', ms = 2,alpha = 0.5, label = \"HyDRA CVW datapoints\")\n",
    "plt.fill_between(df.index, np.cumsum(cvwdf.cvw_ds)+D[2], np.cumsum(cvwdf.cvw_ds)-D[2], color=\"blue\", alpha = 0.1)\n",
    "\n",
    "\n",
    "#C2vsim\n",
    "plt.plot(df.index[idx0709], fns1[1](xs1[1]), \"g\", label = 'C2VSIM trendlines')\n",
    "plt.plot(df.index[idx1216], fns2[1](xs2[1]), color = \"green\")\n",
    "plt.plot(df.index, np.cumsum(df.c2vsim), 'go', ms=2, label = \"C2VSIM datapoints\")\n",
    "plt.fill_between(df.index, np.cumsum(df.c2vsim)+D[2], np.cumsum(df.c2vsim)-D[2], color=\"green\", alpha = 0.1)\n",
    "\n",
    "# Wells\n",
    "plt.plot(df.index[idx0709], fns1[2](xs1[2]),color = 'gray', label = \"Wells trendlines\")\n",
    "plt.plot(df.index[idx1216], fns2[2](xs2[2]), color = \"gray\")\n",
    "plt.plot(wells.index, wells.ds_km3, 'o', color = 'gray', ms=2, alpha = 0.5, label = \"Wells datapoints\")\n",
    "plt.fill_between(wells.index, wells.ds_km3+D[1],wells.ds_km3-D[1], color=\"gray\", alpha = 0.1)\n",
    "\n",
    "# GRACE \n",
    "plt.plot(df.index[idx0709], fns1[3](xs1[3]), color = 'red', label = \"GRACE trendline\")\n",
    "plt.plot(df.index[idx1216], fns2[3](xs2[3]), color = 'red')\n",
    "plt.plot(df.index, df.adj, 'o', ms=2, color = \"red\", alpha = 0.5, label = \"GRACE datapoints\")\n",
    "plt.fill_between(df.index, df.adj+D[1],df.adj-D[1], color=\"lightcoral\", alpha = 0.1)\n",
    "\n",
    "\n",
    "# Labels and legend \n",
    "plt.ylabel('$\\Delta$ $S_{gw}$ ($km^3$)', size = 25) \n",
    "# plt.legend(loc='upper center', bbox_to_anchor=(1.1, 0.9), fancybox=True, shadow=True, ncol=1, prop = {\"size\":12})\n",
    "plt.tick_params(axis='both', which='major', labelsize=18)\n",
    "\n",
    "\n",
    "# plt.annotate(\"Oct '07 - Oct 09 $ km^3 / yr$\", xy=(0.354, 0.28), xycoords=\"axes fraction\", size = 16)\n",
    "plt.annotate(\"HyDRA CV = {} $km^3$/year\".format(slopes1[0]),xy=(0.36, 0.23), xycoords=\"axes fraction\", size = 15)\n",
    "plt.annotate(\"HyDRA CVW = {} $km^3$/year\".format(slopes1[-1]),xy=(0.36, 0.18),color = \"blue\", xycoords=\"axes fraction\", size = 15)\n",
    "plt.annotate(\"C2VSIM = {}$km^3$/year\".format(slopes1[1]),xy=(0.36, 0.13), color = 'green', xycoords=\"axes fraction\", size = 15)\n",
    "plt.annotate(\"Wells = {} $km^3$/year\".format(slopes1[2]),xy=(0.36, 0.08), color = 'gray', xycoords=\"axes fraction\", size = 15)\n",
    "plt.annotate(\"GRACE = {} $km^3$/year\".format(slopes1[3]),xy=(0.36, 0.03), color = 'red',xycoords=\"axes fraction\", size = 15)\n",
    "\n",
    "plt.axvspan(df.index[idx0709][0], df.index[idx0709][-1], alpha=0.1, color='purple')\n",
    "plt.axvspan(df.index[idx1216][0], df.index[idx1216][-1], alpha=0.1, color='purple')\n",
    "\n",
    "\n",
    "# plt.annotate(\"Oct '11 - Oct 15 $ km^3 / yr$ \", xy=(0.62, 0.93), xycoords=\"axes fraction\", size = 16)\n",
    "plt.annotate(\"HyDRA CV = {} $km^3$/year\".format(slopes2[0]),xy=(0.675, 0.93), xycoords=\"axes fraction\", size = 15)\n",
    "plt.annotate(\"HyDRA CVW = {} $km^3$/year\".format(slopes2[-1]),xy=(0.675, 0.88),color = \"blue\", xycoords=\"axes fraction\", size = 15)\n",
    "plt.annotate(\"C2VSIM = {} $km^3$/year\".format(slopes2[1]),xy=(0.675, 0.83), color = 'green', xycoords=\"axes fraction\", size = 15)\n",
    "plt.annotate(\"Wells = {} $km^3$/year\".format(slopes2[2]),xy=(0.675, 0.78), color = 'gray', xycoords=\"axes fraction\", size = 15)\n",
    "plt.annotate(\"GRACE = {} $km^3$/year\".format(slopes2[3]),xy=(0.675, 0.73), color = 'red',xycoords=\"axes fraction\", size = 15)\n",
    "\n",
    "plt.show()"
   ]
  },
  {
   "cell_type": "code",
   "execution_count": null,
   "metadata": {},
   "outputs": [],
   "source": []
  }
 ],
 "metadata": {
  "kernelspec": {
   "display_name": "Python 3",
   "language": "python",
   "name": "python3"
  },
  "language_info": {
   "codemirror_mode": {
    "name": "ipython",
    "version": 3
   },
   "file_extension": ".py",
   "mimetype": "text/x-python",
   "name": "python",
   "nbconvert_exporter": "python",
   "pygments_lexer": "ipython3",
   "version": "3.6.8"
  }
 },
 "nbformat": 4,
 "nbformat_minor": 2
}
