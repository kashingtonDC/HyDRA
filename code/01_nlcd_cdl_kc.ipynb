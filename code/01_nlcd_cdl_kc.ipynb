{
 "cells": [
  {
   "cell_type": "code",
   "execution_count": 1,
   "metadata": {},
   "outputs": [],
   "source": [
    "import os\n",
    "import ee\n",
    "import datetime\n",
    "import tqdm\n",
    "import json\n",
    "\n",
    "import pandas as pd\n",
    "import geopandas as gp\n",
    "import numpy as np\n",
    "import rsfuncs as rs\n",
    "\n",
    "import scipy.interpolate as interp\n",
    "import matplotlib.pyplot as plt\n",
    "\n",
    "from tqdm.notebook import tqdm\n",
    "\n",
    "%load_ext autoreload\n",
    "%autoreload 2\n",
    "ee.Initialize()"
   ]
  },
  {
   "cell_type": "code",
   "execution_count": 2,
   "metadata": {},
   "outputs": [
    {
     "data": {
      "application/vnd.jupyter.widget-view+json": {
       "model_id": "fdaf1ea2a94246d99740997d0b944397",
       "version_major": 2,
       "version_minor": 0
      },
      "text/plain": [
       "HBox(children=(FloatProgress(value=0.0, max=21.0), HTML(value='')))"
      ]
     },
     "metadata": {},
     "output_type": "display_data"
    },
    {
     "name": "stdout",
     "output_type": "stream",
     "text": [
      "\n"
     ]
    }
   ],
   "source": [
    "# Read files, make polygons\n",
    "kc = pd.read_csv('../data/fmp_kc_faunt.csv')\n",
    "gdf = gp.read_file(\"../shape/cv.shp\")\n",
    "data = rs.load_data()\n",
    "\n",
    "# Split cv into polygons\n",
    "area = rs.gdf_to_ee_poly(gdf.simplify(0.01))\n",
    "polys = rs.gen_polys(area, dx = 0.2, dy = 0.2)\n",
    "polydict = polys.getInfo()\n",
    "\n",
    "strstart = '2001-01-01'\n",
    "strend = '2019-12-31'\n",
    "\n",
    "startdate = datetime.datetime.strptime(strstart, \"%Y-%m-%d\")\n",
    "enddate = datetime.datetime.strptime(strend, \"%Y-%m-%d\")\n",
    "years = range(2001, 2020)"
   ]
  },
  {
   "cell_type": "code",
   "execution_count": 3,
   "metadata": {},
   "outputs": [
    {
     "data": {
      "application/vnd.jupyter.widget-view+json": {
       "model_id": "aed1040113454786b4aa8b41acd3a108",
       "version_major": 2,
       "version_minor": 0
      },
      "text/plain": [
       "HBox(children=(FloatProgress(value=0.0, max=189.0), HTML(value='')))"
      ]
     },
     "metadata": {},
     "output_type": "display_data"
    },
    {
     "name": "stdout",
     "output_type": "stream",
     "text": [
      "\n"
     ]
    }
   ],
   "source": [
    "# Ensure each poly is a single geometry \n",
    "\n",
    "valid_polys = []\n",
    "\n",
    "for i in tqdm(polydict['features'][:]):\n",
    "    aoi = ee.Geometry.Polygon(i['geometry']['coordinates']).intersection(area)\n",
    "    pols = aoi.getInfo()['coordinates']\n",
    "    if len(pols) == 0:\n",
    "        continue\n",
    "    if len(pols) == 1:\n",
    "        valid_polys.append(ee.Geometry.Polygon(pols))\n",
    "    if len(pols) > 1:\n",
    "        for i in pols:\n",
    "#             print(i)\n",
    "            valid_polys.append(ee.Geometry.Polygon(i))\n"
   ]
  },
  {
   "cell_type": "code",
   "execution_count": 5,
   "metadata": {},
   "outputs": [
    {
     "data": {
      "application/vnd.jupyter.widget-view+json": {
       "model_id": "1916483483de4844978551380f49cb2d",
       "version_major": 2,
       "version_minor": 0
      },
      "text/plain": [
       "HBox(children=(FloatProgress(value=0.0, max=1.0), HTML(value='')))"
      ]
     },
     "metadata": {},
     "output_type": "display_data"
    },
    {
     "name": "stdout",
     "output_type": "stream",
     "text": [
      "2001\n",
      "NLCD2001\n"
     ]
    },
    {
     "data": {
      "application/vnd.jupyter.widget-view+json": {
       "model_id": "93d84ae6394e43d89253367a79eb831a",
       "version_major": 2,
       "version_minor": 0
      },
      "text/plain": [
       "HBox(children=(FloatProgress(value=0.0, max=226.0), HTML(value='')))"
      ]
     },
     "metadata": {},
     "output_type": "display_data"
    },
    {
     "name": "stdout",
     "output_type": "stream",
     "text": [
      "\n",
      "IRRIGATED pct = 0.6147950665018246 \n",
      "\n"
     ]
    }
   ],
   "source": [
    "annual_irr = {}\n",
    "\n",
    "for y in tqdm(years[:1]):\n",
    "    \n",
    "    # print year and nlcd col \n",
    "    print(y)\n",
    "    \n",
    "    yearstart = \"{}-01-01\".format(str(y))\n",
    "    yearend = \"{}-12-31\".format(str(y))\n",
    "\n",
    "    # Select the nlcd dataset\n",
    "    dataset =  data['nlcd']\n",
    "    ic = dataset[0]\n",
    "    var = dataset[1]\n",
    "    res = dataset[3]\n",
    "\n",
    "    # find the nearest nlcd dataset\n",
    "    col = ic.filterDate(ee.Date(yearstart).advance(-1, 'years'), ee.Date(yearstart).advance(2, 'years')).first()\n",
    "    if not col.getInfo():\n",
    "        col = ic.filterDate(ee.Date(yearstart).advance(-3, 'years'), ee.Date(yearstart).advance(2, 'years')).first()\n",
    "\n",
    "    \n",
    "    # Print the nearest NLCD col\n",
    "    print(col.getInfo()['properties']['system:index'])\n",
    "    \n",
    "    # Build the out dict \n",
    "    annual_stats = { k:0 for k,v in rs.nlcd_nums2classes().items()}\n",
    "    \n",
    "    # Loop through polys \n",
    "    for poly in tqdm(valid_polys[:]):\n",
    "\n",
    "        # Select poly as geom\n",
    "        aoi = poly\n",
    "        \n",
    "        # Get the count of pixel vals for each landcover class. \n",
    "        t = col.reduceRegion(ee.Reducer.frequencyHistogram(), aoi, res).get(var)\n",
    "\n",
    "        freqs = t.getInfo()\n",
    "        \n",
    "        # Add it to the out dict \n",
    "        for k,v in freqs.items():\n",
    "             annual_stats[int(k)]+=v \n",
    "\n",
    "    # Compile teh annual stats. Lctypes 81 and 82 are crop and pasture \n",
    "    notcrop = [annual_stats[x] for x in annual_stats.keys() if x not in [81,82]]\n",
    "    crop = [annual_stats[x] for x in annual_stats.keys() if x in [81,82]]\n",
    "\n",
    "    pctirr = np.array(crop).sum() / np.array(list(annual_stats.values())).sum()\n",
    "    pctnonirr = np.array(notcrop).sum() / np.array(list(annual_stats.values())).sum()\n",
    "    \n",
    "    print(\"IRRIGATED pct = {} \".format(str(pctirr)))\n",
    "    \n",
    "    annual_irr[y] = pctirr\n",
    "        "
   ]
  },
  {
   "cell_type": "code",
   "execution_count": 6,
   "metadata": {},
   "outputs": [
    {
     "data": {
      "image/png": "[encoded data removed]",
      "text/plain": [
       "<Figure size 432x288 with 1 Axes>"
      ]
     },
     "metadata": {
      "needs_background": "light"
     },
     "output_type": "display_data"
    }
   ],
   "source": [
    "plt.bar([rs.nlcd_nums2classes()[int(k)] for k,v in annual_stats.items()],annual_stats.values())\n",
    "plt.xticks(rotation=90)\n",
    "plt.show()"
   ]
  },
  {
   "cell_type": "code",
   "execution_count": null,
   "metadata": {},
   "outputs": [],
   "source": []
  }
 ],
 "metadata": {
  "kernelspec": {
   "display_name": "Python 3",
   "language": "python",
   "name": "python3"
  },
  "language_info": {
   "codemirror_mode": {
    "name": "ipython",
    "version": 3
   },
   "file_extension": ".py",
   "mimetype": "text/x-python",
   "name": "python",
   "nbconvert_exporter": "python",
   "pygments_lexer": "ipython3",
   "version": "3.8.2"
  }
 },
 "nbformat": 4,
 "nbformat_minor": 4
}
